{
 "cells": [
  {
   "cell_type": "markdown",
   "metadata": {
    "nbpresent": {
     "id": "63450d6d-934a-44c4-bd79-a1e0be7fcbe2"
    },
    "slideshow": {
     "slide_type": "-"
    }
   },
   "source": [
    "<h2> Open University Learning Analytics </h2>\n",
    "<h3> Task: Visualising factors associated with the completion of an OU module \n",
    "<h3>  Platform: Jupyter Python Notebook </h3>"
   ]
  },
  {
   "cell_type": "markdown",
   "metadata": {
    "nbpresent": {
     "id": "c7d7b0e5-aa5b-48ee-866f-8ea1d7eac0a6"
    },
    "slideshow": {
     "slide_type": "-"
    }
   },
   "source": [
    "<h3>1. Loading data and data inspection</h3>"
   ]
  },
  {
   "cell_type": "code",
   "execution_count": 108,
   "metadata": {
    "collapsed": false,
    "nbpresent": {
     "id": "95f95256-975b-4479-8626-52f86f5b33e1"
    },
    "slideshow": {
     "slide_type": "-"
    }
   },
   "outputs": [
    {
     "data": {
      "text/plain": [
       "32593"
      ]
     },
     "execution_count": 108,
     "metadata": {},
     "output_type": "execute_result"
    }
   ],
   "source": [
    "import pandas as pd\n",
    "import math\n",
    "import numpy as np\n",
    "import matplotlib.pyplot as plt\n",
    "\n",
    "df_studentReg = pd.read_csv(\"studentRegistration.csv\")\n",
    "df_studentReg.head()\n",
    "len(df_studentReg)"
   ]
  },
  {
   "cell_type": "code",
   "execution_count": 109,
   "metadata": {
    "collapsed": false,
    "nbpresent": {
     "id": "0380f597-8bde-4427-a480-a974888478c0"
    },
    "slideshow": {
     "slide_type": "-"
    }
   },
   "outputs": [
    {
     "data": {
      "text/plain": [
       "32593"
      ]
     },
     "execution_count": 109,
     "metadata": {},
     "output_type": "execute_result"
    }
   ],
   "source": [
    "df_studentInfo = pd.read_csv(\"studentInfo.csv\")\n",
    "len(df_studentInfo)"
   ]
  },
  {
   "cell_type": "code",
   "execution_count": 110,
   "metadata": {
    "collapsed": false,
    "nbpresent": {
     "id": "94fd1e59-763b-4b50-995a-c3ec59dcaa37"
    }
   },
   "outputs": [
    {
     "data": {
      "text/plain": [
       "173912"
      ]
     },
     "execution_count": 110,
     "metadata": {},
     "output_type": "execute_result"
    }
   ],
   "source": [
    "df_studentAssessment = pd.read_csv(\"studentAssessment.csv\")\n",
    "len(df_studentAssessment)"
   ]
  },
  {
   "cell_type": "code",
   "execution_count": 111,
   "metadata": {
    "collapsed": false,
    "nbpresent": {
     "id": "b07a844b-ce53-4edb-871b-18c871b86fb4"
    }
   },
   "outputs": [
    {
     "name": "stdout",
     "output_type": "stream",
     "text": [
      "Index([u'id_assessment', u'id_student', u'date_submitted', u'is_banked',\n",
      "       u'score'],\n",
      "      dtype='object')\n"
     ]
    },
    {
     "data": {
      "text/plain": [
       "23369"
      ]
     },
     "execution_count": 111,
     "metadata": {},
     "output_type": "execute_result"
    }
   ],
   "source": [
    "print(df_studentAssessment.columns)\n",
    "len(df_studentAssessment.groupby(['id_student']))"
   ]
  },
  {
   "cell_type": "code",
   "execution_count": 112,
   "metadata": {
    "collapsed": false,
    "nbpresent": {
     "id": "6914a02e-a125-454a-af8a-cb458527304a"
    }
   },
   "outputs": [
    {
     "data": {
      "text/plain": [
       "10655280"
      ]
     },
     "execution_count": 112,
     "metadata": {},
     "output_type": "execute_result"
    }
   ],
   "source": [
    "df_studentVle = pd.read_csv(\"studentVle.csv\")\n",
    "df_studentVle.columns\n",
    "len(df_studentVle)"
   ]
  },
  {
   "cell_type": "code",
   "execution_count": 113,
   "metadata": {
    "collapsed": false,
    "nbpresent": {
     "id": "00a8f353-feb0-4674-a523-9b57e88d6fa9"
    }
   },
   "outputs": [
    {
     "data": {
      "text/plain": [
       "22"
      ]
     },
     "execution_count": 113,
     "metadata": {},
     "output_type": "execute_result"
    }
   ],
   "source": [
    "df_assessment = pd.read_csv(\"assessments.csv\")\n",
    "df_vle = pd.read_csv(\"vle.csv\")\n",
    "df_course = pd.read_csv(\"courses.csv\")\n",
    "df_course.head()\n",
    "len(df_course)"
   ]
  },
  {
   "cell_type": "code",
   "execution_count": 114,
   "metadata": {
    "collapsed": false,
    "nbpresent": {
     "id": "10612d9b-0f32-4931-8510-9eec99e17ef8"
    }
   },
   "outputs": [
    {
     "data": {
      "text/plain": [
       "code_module  code_presentation\n",
       "AAA          2013J                1\n",
       "             2014J                1\n",
       "BBB          2013B                1\n",
       "             2013J                1\n",
       "             2014B                1\n",
       "             2014J                1\n",
       "CCC          2014B                1\n",
       "             2014J                1\n",
       "DDD          2013B                1\n",
       "             2013J                1\n",
       "             2014B                1\n",
       "             2014J                1\n",
       "EEE          2013J                1\n",
       "             2014B                1\n",
       "             2014J                1\n",
       "FFF          2013B                1\n",
       "             2013J                1\n",
       "             2014B                1\n",
       "             2014J                1\n",
       "GGG          2013J                1\n",
       "             2014B                1\n",
       "             2014J                1\n",
       "Name: code_presentation, dtype: int64"
      ]
     },
     "execution_count": 114,
     "metadata": {},
     "output_type": "execute_result"
    }
   ],
   "source": [
    "df_course.groupby(['code_module','code_presentation'])['code_presentation'].count()\n"
   ]
  },
  {
   "cell_type": "markdown",
   "metadata": {
    "nbpresent": {
     "id": "7aec4811-b2f7-4b0b-8e77-9285169574bc"
    }
   },
   "source": [
    "<h3>2. Checking data integrity</h3>"
   ]
  },
  {
   "cell_type": "code",
   "execution_count": 115,
   "metadata": {
    "collapsed": false,
    "nbpresent": {
     "id": "01b1806b-3321-4cd0-8efa-a447db0d89e8"
    }
   },
   "outputs": [
    {
     "data": {
      "text/plain": [
       "code_module  code_presentation\n",
       "AAA          2013J                 383\n",
       "             2014J                 365\n",
       "BBB          2013B                1767\n",
       "             2013J                2237\n",
       "             2014B                1613\n",
       "             2014J                2292\n",
       "CCC          2014B                1936\n",
       "             2014J                2498\n",
       "DDD          2013B                1303\n",
       "             2013J                1938\n",
       "             2014B                1228\n",
       "             2014J                1803\n",
       "EEE          2013J                1052\n",
       "             2014B                 694\n",
       "             2014J                1188\n",
       "FFF          2013B                1614\n",
       "             2013J                2283\n",
       "             2014B                1500\n",
       "             2014J                2365\n",
       "GGG          2013J                 952\n",
       "             2014B                 833\n",
       "             2014J                 749\n",
       "Name: id_student, dtype: int64"
      ]
     },
     "execution_count": 115,
     "metadata": {},
     "output_type": "execute_result"
    }
   ],
   "source": [
    "df_studentInfo.groupby(['code_module','code_presentation'])['id_student'].count()"
   ]
  },
  {
   "cell_type": "code",
   "execution_count": 116,
   "metadata": {
    "collapsed": false,
    "nbpresent": {
     "id": "c6d12cbd-0fa0-4689-bec1-0f06eff92d1d"
    }
   },
   "outputs": [
    {
     "data": {
      "text/plain": [
       "code_module  code_presentation\n",
       "AAA          2013J                 383\n",
       "             2014J                 365\n",
       "BBB          2013B                1767\n",
       "             2013J                2237\n",
       "             2014B                1613\n",
       "             2014J                2292\n",
       "CCC          2014B                1936\n",
       "             2014J                2498\n",
       "DDD          2013B                1303\n",
       "             2013J                1938\n",
       "             2014B                1228\n",
       "             2014J                1803\n",
       "EEE          2013J                1052\n",
       "             2014B                 694\n",
       "             2014J                1188\n",
       "FFF          2013B                1614\n",
       "             2013J                2283\n",
       "             2014B                1500\n",
       "             2014J                2365\n",
       "GGG          2013J                 952\n",
       "             2014B                 833\n",
       "             2014J                 749\n",
       "Name: id_student, dtype: int64"
      ]
     },
     "execution_count": 116,
     "metadata": {},
     "output_type": "execute_result"
    }
   ],
   "source": [
    "df_studentReg.groupby(['code_module','code_presentation'])['id_student'].count()"
   ]
  },
  {
   "cell_type": "code",
   "execution_count": 117,
   "metadata": {
    "collapsed": false,
    "nbpresent": {
     "id": "0876bacd-136c-4c36-98d3-68a216bbcabe"
    }
   },
   "outputs": [
    {
     "data": {
      "text/plain": [
       "code_module  code_presentation  id_student\n",
       "AAA          2013J              11391         196\n",
       "                                28400         430\n",
       "                                30268          76\n",
       "                                31604         663\n",
       "                                32885         352\n",
       "                                38053         723\n",
       "                                45462         355\n",
       "                                45642         531\n",
       "                                52130         593\n",
       "                                53025         904\n",
       "                                57506         403\n",
       "                                58873         526\n",
       "                                59185         345\n",
       "                                62155         981\n",
       "                                63400         760\n",
       "                                65002          54\n",
       "                                70464         205\n",
       "                                71361         728\n",
       "                                74372          72\n",
       "                                75091         754\n",
       "                                77367         271\n",
       "                                91265         496\n",
       "                                94961         102\n",
       "                                98094         386\n",
       "                                100893        243\n",
       "Name: id_student, dtype: int64"
      ]
     },
     "execution_count": 117,
     "metadata": {},
     "output_type": "execute_result"
    }
   ],
   "source": [
    "df_studentVle.groupby(['code_module','code_presentation','id_student'])['id_student'].count()[0:25]"
   ]
  },
  {
   "cell_type": "markdown",
   "metadata": {
    "nbpresent": {
     "id": "8e7ce356-df1f-4874-95b1-cb372fe0ed63"
    }
   },
   "source": [
    "<h3> 3. Join Data Tables </h3>"
   ]
  },
  {
   "cell_type": "markdown",
   "metadata": {
    "nbpresent": {
     "id": "08b1f424-fb23-42b0-8949-d85f45005335"
    }
   },
   "source": [
    "<h4>3.1 Join Table \"StudentInfo\" and \"StudentRegistration\" by \"code_module\", \"code_presentation\", \"id_student\" </h4>\n",
    "<p> Observation: each module have 2-4 code presentations, module CCC 2014J has the highest # of students registered</p>"
   ]
  },
  {
   "cell_type": "code",
   "execution_count": 118,
   "metadata": {
    "collapsed": false,
    "nbpresent": {
     "id": "2e49610c-b0cb-4b17-95d1-1ffee6429cbc"
    }
   },
   "outputs": [
    {
     "data": {
      "text/html": [
       "<div>\n",
       "<table border=\"1\" class=\"dataframe\">\n",
       "  <thead>\n",
       "    <tr style=\"text-align: right;\">\n",
       "      <th></th>\n",
       "      <th>code_module</th>\n",
       "      <th>code_presentation</th>\n",
       "      <th>id_student</th>\n",
       "      <th>gender</th>\n",
       "      <th>region</th>\n",
       "      <th>highest_education</th>\n",
       "      <th>imd_band</th>\n",
       "      <th>age_band</th>\n",
       "      <th>num_of_prev_attempts</th>\n",
       "      <th>studied_credits</th>\n",
       "      <th>disability</th>\n",
       "      <th>final_result</th>\n",
       "      <th>date_registration</th>\n",
       "      <th>date_unregistration</th>\n",
       "    </tr>\n",
       "  </thead>\n",
       "  <tbody>\n",
       "    <tr>\n",
       "      <th>0</th>\n",
       "      <td>AAA</td>\n",
       "      <td>2013J</td>\n",
       "      <td>11391</td>\n",
       "      <td>M</td>\n",
       "      <td>East Anglian Region</td>\n",
       "      <td>HE Qualification</td>\n",
       "      <td>90-100%</td>\n",
       "      <td>55&lt;=</td>\n",
       "      <td>0</td>\n",
       "      <td>240</td>\n",
       "      <td>N</td>\n",
       "      <td>Pass</td>\n",
       "      <td>-159.0</td>\n",
       "      <td>NaN</td>\n",
       "    </tr>\n",
       "    <tr>\n",
       "      <th>1</th>\n",
       "      <td>AAA</td>\n",
       "      <td>2013J</td>\n",
       "      <td>28400</td>\n",
       "      <td>F</td>\n",
       "      <td>Scotland</td>\n",
       "      <td>HE Qualification</td>\n",
       "      <td>20-30%</td>\n",
       "      <td>35-55</td>\n",
       "      <td>0</td>\n",
       "      <td>60</td>\n",
       "      <td>N</td>\n",
       "      <td>Pass</td>\n",
       "      <td>-53.0</td>\n",
       "      <td>NaN</td>\n",
       "    </tr>\n",
       "    <tr>\n",
       "      <th>2</th>\n",
       "      <td>AAA</td>\n",
       "      <td>2013J</td>\n",
       "      <td>30268</td>\n",
       "      <td>F</td>\n",
       "      <td>North Western Region</td>\n",
       "      <td>A Level or Equivalent</td>\n",
       "      <td>30-40%</td>\n",
       "      <td>35-55</td>\n",
       "      <td>0</td>\n",
       "      <td>60</td>\n",
       "      <td>Y</td>\n",
       "      <td>Withdrawn</td>\n",
       "      <td>-92.0</td>\n",
       "      <td>12.0</td>\n",
       "    </tr>\n",
       "    <tr>\n",
       "      <th>3</th>\n",
       "      <td>AAA</td>\n",
       "      <td>2013J</td>\n",
       "      <td>31604</td>\n",
       "      <td>F</td>\n",
       "      <td>South East Region</td>\n",
       "      <td>A Level or Equivalent</td>\n",
       "      <td>50-60%</td>\n",
       "      <td>35-55</td>\n",
       "      <td>0</td>\n",
       "      <td>60</td>\n",
       "      <td>N</td>\n",
       "      <td>Pass</td>\n",
       "      <td>-52.0</td>\n",
       "      <td>NaN</td>\n",
       "    </tr>\n",
       "    <tr>\n",
       "      <th>4</th>\n",
       "      <td>AAA</td>\n",
       "      <td>2013J</td>\n",
       "      <td>32885</td>\n",
       "      <td>F</td>\n",
       "      <td>West Midlands Region</td>\n",
       "      <td>Lower Than A Level</td>\n",
       "      <td>50-60%</td>\n",
       "      <td>0-35</td>\n",
       "      <td>0</td>\n",
       "      <td>60</td>\n",
       "      <td>N</td>\n",
       "      <td>Pass</td>\n",
       "      <td>-176.0</td>\n",
       "      <td>NaN</td>\n",
       "    </tr>\n",
       "  </tbody>\n",
       "</table>\n",
       "</div>"
      ],
      "text/plain": [
       "  code_module code_presentation  id_student gender                region  \\\n",
       "0         AAA             2013J       11391      M   East Anglian Region   \n",
       "1         AAA             2013J       28400      F              Scotland   \n",
       "2         AAA             2013J       30268      F  North Western Region   \n",
       "3         AAA             2013J       31604      F     South East Region   \n",
       "4         AAA             2013J       32885      F  West Midlands Region   \n",
       "\n",
       "       highest_education imd_band age_band  num_of_prev_attempts  \\\n",
       "0       HE Qualification  90-100%     55<=                     0   \n",
       "1       HE Qualification   20-30%    35-55                     0   \n",
       "2  A Level or Equivalent   30-40%    35-55                     0   \n",
       "3  A Level or Equivalent   50-60%    35-55                     0   \n",
       "4     Lower Than A Level   50-60%     0-35                     0   \n",
       "\n",
       "   studied_credits disability final_result  date_registration  \\\n",
       "0              240          N         Pass             -159.0   \n",
       "1               60          N         Pass              -53.0   \n",
       "2               60          Y    Withdrawn              -92.0   \n",
       "3               60          N         Pass              -52.0   \n",
       "4               60          N         Pass             -176.0   \n",
       "\n",
       "   date_unregistration  \n",
       "0                  NaN  \n",
       "1                  NaN  \n",
       "2                 12.0  \n",
       "3                  NaN  \n",
       "4                  NaN  "
      ]
     },
     "execution_count": 118,
     "metadata": {},
     "output_type": "execute_result"
    }
   ],
   "source": [
    "df_mergedInfoReg = pd.merge(df_studentInfo, df_studentReg, how=\"left\", left_on=['code_module', 'code_presentation','id_student'],\n",
    "                            right_on=['code_module', 'code_presentation','id_student'])\n",
    "df_mergedInfoReg.head()"
   ]
  },
  {
   "cell_type": "code",
   "execution_count": 119,
   "metadata": {
    "collapsed": false,
    "nbpresent": {
     "id": "1bfe8998-a53d-4aa7-b647-8ec8abf6852d"
    },
    "scrolled": true
   },
   "outputs": [
    {
     "data": {
      "text/plain": [
       "code_module  code_presentation\n",
       "AAA          2013J                 383\n",
       "             2014J                 365\n",
       "BBB          2013B                1767\n",
       "             2013J                2237\n",
       "             2014B                1613\n",
       "             2014J                2292\n",
       "CCC          2014B                1936\n",
       "             2014J                2498\n",
       "DDD          2013B                1303\n",
       "             2013J                1938\n",
       "             2014B                1228\n",
       "             2014J                1803\n",
       "EEE          2013J                1052\n",
       "             2014B                 694\n",
       "             2014J                1188\n",
       "FFF          2013B                1614\n",
       "             2013J                2283\n",
       "             2014B                1500\n",
       "             2014J                2365\n",
       "GGG          2013J                 952\n",
       "             2014B                 833\n",
       "             2014J                 749\n",
       "Name: id_student, dtype: int64"
      ]
     },
     "execution_count": 119,
     "metadata": {},
     "output_type": "execute_result"
    }
   ],
   "source": [
    "mergedCount=df_mergedInfoReg.groupby(['code_module','code_presentation'])\n",
    "mergedCount['id_student'].count()"
   ]
  },
  {
   "cell_type": "code",
   "execution_count": 120,
   "metadata": {
    "collapsed": false,
    "nbpresent": {
     "id": "df23f4a4-2853-4073-9fc4-8eca2851b79a"
    }
   },
   "outputs": [
    {
     "data": {
      "text/plain": [
       "<matplotlib.axes._subplots.AxesSubplot at 0x1ea14b00>"
      ]
     },
     "execution_count": 120,
     "metadata": {},
     "output_type": "execute_result"
    },
    {
     "data": {
      "image/png": "[encoded data removed]",
      "text/plain": [
       "<matplotlib.figure.Figure at 0x1f085390>"
      ]
     },
     "metadata": {},
     "output_type": "display_data"
    }
   ],
   "source": [
    "%matplotlib inline \n",
    "mergedCount['id_student'].size().plot.barh(title='# of students registered for each module',figsize=[10,10], grid=True,color=\"lightblue\")"
   ]
  },
  {
   "cell_type": "markdown",
   "metadata": {
    "nbpresent": {
     "id": "54c70104-72a4-4e7c-9959-33b85cd64564"
    }
   },
   "source": [
    " <h4>3.2 Join Table \"StudentAssessment\" and \"Assessment\" </h4>\n",
    " <p> Observation: each module / presentation involves multiple assessments, most assessments DO NOT have 100% turn in rate. Module DDD has the most # of assessments 14, Module EEE has the least # of assessments 4 </p>"
   ]
  },
  {
   "cell_type": "code",
   "execution_count": 121,
   "metadata": {
    "collapsed": false
   },
   "outputs": [
    {
     "data": {
      "text/plain": [
       "<matplotlib.axes._subplots.AxesSubplot at 0x1fd25c50>"
      ]
     },
     "execution_count": 121,
     "metadata": {},
     "output_type": "execute_result"
    },
    {
     "data": {
      "image/png": "[encoded data removed]",
      "text/plain": [
       "<matplotlib.figure.Figure at 0x1fd484a8>"
      ]
     },
     "metadata": {},
     "output_type": "display_data"
    }
   ],
   "source": [
    "%matplotlib inline\n",
    "df_mergedStuAss = pd.merge(df_studentAssessment, df_assessment, how=\"left\", left_on=['id_assessment'],\n",
    "                            right_on=['id_assessment'])\n",
    "df_mergedStuAss.groupby(['code_module','code_presentation'] ).id_assessment.nunique().plot.barh(\n",
    "    title='# of assessments for each module', figsize=[8,8], grid=True,color=\"lightblue\")"
   ]
  },
  {
   "cell_type": "code",
   "execution_count": 122,
   "metadata": {
    "collapsed": false,
    "nbpresent": {
     "id": "6c5da642-ecd3-4674-bba7-c31798649112"
    }
   },
   "outputs": [
    {
     "data": {
      "text/plain": [
       "code_module  code_presentation  id_assessment\n",
       "AAA          2013J              1752             0.937337\n",
       "                                1753             0.892950\n",
       "                                1754             0.864230\n",
       "                                1755             0.791123\n",
       "                                1756             0.778068\n",
       "Name: id_assessment, dtype: float64"
      ]
     },
     "execution_count": 122,
     "metadata": {},
     "output_type": "execute_result"
    }
   ],
   "source": [
    "ass_count = df_mergedStuAss.groupby(['code_module','code_presentation','id_assessment']).id_assessment.count()\n",
    "stu_count = df_mergedInfoReg.groupby(['code_module','code_presentation']).id_student.count()\n",
    "\n",
    "ass_count[0:5]/stu_count[0]\n"
   ]
  },
  {
   "cell_type": "markdown",
   "metadata": {
    "nbpresent": {
     "id": "b2c8b455-fd23-4035-ad9f-c2cb5e745f25"
    }
   },
   "source": [
    "<h4> 3.3* Merge Table \"studentVle\" into the merged data frame on studentInfoReg </h4>\n",
    "<p> Observation: For each module, most student has multiple interactions with the VLE. Module FFF has the most # of average clicks. Module DDD has the least # of average clicks </p>"
   ]
  },
  {
   "cell_type": "code",
   "execution_count": 123,
   "metadata": {
    "collapsed": false,
    "nbpresent": {
     "id": "7c77cf8c-e23f-47e3-8594-85c1c6bc717f"
    }
   },
   "outputs": [
    {
     "data": {
      "text/html": [
       "<div>\n",
       "<table border=\"1\" class=\"dataframe\">\n",
       "  <thead>\n",
       "    <tr style=\"text-align: right;\">\n",
       "      <th></th>\n",
       "      <th>code_module</th>\n",
       "      <th>code_presentation</th>\n",
       "      <th>id_student</th>\n",
       "      <th>gender</th>\n",
       "      <th>region</th>\n",
       "      <th>highest_education</th>\n",
       "      <th>imd_band</th>\n",
       "      <th>age_band</th>\n",
       "      <th>num_of_prev_attempts</th>\n",
       "      <th>studied_credits</th>\n",
       "      <th>disability</th>\n",
       "      <th>final_result</th>\n",
       "      <th>date_registration</th>\n",
       "      <th>date_unregistration</th>\n",
       "      <th>id_site</th>\n",
       "      <th>date</th>\n",
       "      <th>sum_click</th>\n",
       "    </tr>\n",
       "  </thead>\n",
       "  <tbody>\n",
       "    <tr>\n",
       "      <th>0</th>\n",
       "      <td>AAA</td>\n",
       "      <td>2013J</td>\n",
       "      <td>11391</td>\n",
       "      <td>M</td>\n",
       "      <td>East Anglian Region</td>\n",
       "      <td>HE Qualification</td>\n",
       "      <td>90-100%</td>\n",
       "      <td>55&lt;=</td>\n",
       "      <td>0</td>\n",
       "      <td>240</td>\n",
       "      <td>N</td>\n",
       "      <td>Pass</td>\n",
       "      <td>-159.0</td>\n",
       "      <td>NaN</td>\n",
       "      <td>546669.0</td>\n",
       "      <td>-5.0</td>\n",
       "      <td>16.0</td>\n",
       "    </tr>\n",
       "    <tr>\n",
       "      <th>1</th>\n",
       "      <td>AAA</td>\n",
       "      <td>2013J</td>\n",
       "      <td>11391</td>\n",
       "      <td>M</td>\n",
       "      <td>East Anglian Region</td>\n",
       "      <td>HE Qualification</td>\n",
       "      <td>90-100%</td>\n",
       "      <td>55&lt;=</td>\n",
       "      <td>0</td>\n",
       "      <td>240</td>\n",
       "      <td>N</td>\n",
       "      <td>Pass</td>\n",
       "      <td>-159.0</td>\n",
       "      <td>NaN</td>\n",
       "      <td>546662.0</td>\n",
       "      <td>-5.0</td>\n",
       "      <td>44.0</td>\n",
       "    </tr>\n",
       "    <tr>\n",
       "      <th>2</th>\n",
       "      <td>AAA</td>\n",
       "      <td>2013J</td>\n",
       "      <td>11391</td>\n",
       "      <td>M</td>\n",
       "      <td>East Anglian Region</td>\n",
       "      <td>HE Qualification</td>\n",
       "      <td>90-100%</td>\n",
       "      <td>55&lt;=</td>\n",
       "      <td>0</td>\n",
       "      <td>240</td>\n",
       "      <td>N</td>\n",
       "      <td>Pass</td>\n",
       "      <td>-159.0</td>\n",
       "      <td>NaN</td>\n",
       "      <td>546652.0</td>\n",
       "      <td>-5.0</td>\n",
       "      <td>1.0</td>\n",
       "    </tr>\n",
       "    <tr>\n",
       "      <th>3</th>\n",
       "      <td>AAA</td>\n",
       "      <td>2013J</td>\n",
       "      <td>11391</td>\n",
       "      <td>M</td>\n",
       "      <td>East Anglian Region</td>\n",
       "      <td>HE Qualification</td>\n",
       "      <td>90-100%</td>\n",
       "      <td>55&lt;=</td>\n",
       "      <td>0</td>\n",
       "      <td>240</td>\n",
       "      <td>N</td>\n",
       "      <td>Pass</td>\n",
       "      <td>-159.0</td>\n",
       "      <td>NaN</td>\n",
       "      <td>546668.0</td>\n",
       "      <td>-5.0</td>\n",
       "      <td>2.0</td>\n",
       "    </tr>\n",
       "    <tr>\n",
       "      <th>4</th>\n",
       "      <td>AAA</td>\n",
       "      <td>2013J</td>\n",
       "      <td>11391</td>\n",
       "      <td>M</td>\n",
       "      <td>East Anglian Region</td>\n",
       "      <td>HE Qualification</td>\n",
       "      <td>90-100%</td>\n",
       "      <td>55&lt;=</td>\n",
       "      <td>0</td>\n",
       "      <td>240</td>\n",
       "      <td>N</td>\n",
       "      <td>Pass</td>\n",
       "      <td>-159.0</td>\n",
       "      <td>NaN</td>\n",
       "      <td>546652.0</td>\n",
       "      <td>-5.0</td>\n",
       "      <td>1.0</td>\n",
       "    </tr>\n",
       "  </tbody>\n",
       "</table>\n",
       "</div>"
      ],
      "text/plain": [
       "  code_module code_presentation  id_student gender               region  \\\n",
       "0         AAA             2013J       11391      M  East Anglian Region   \n",
       "1         AAA             2013J       11391      M  East Anglian Region   \n",
       "2         AAA             2013J       11391      M  East Anglian Region   \n",
       "3         AAA             2013J       11391      M  East Anglian Region   \n",
       "4         AAA             2013J       11391      M  East Anglian Region   \n",
       "\n",
       "  highest_education imd_band age_band  num_of_prev_attempts  studied_credits  \\\n",
       "0  HE Qualification  90-100%     55<=                     0              240   \n",
       "1  HE Qualification  90-100%     55<=                     0              240   \n",
       "2  HE Qualification  90-100%     55<=                     0              240   \n",
       "3  HE Qualification  90-100%     55<=                     0              240   \n",
       "4  HE Qualification  90-100%     55<=                     0              240   \n",
       "\n",
       "  disability final_result  date_registration  date_unregistration   id_site  \\\n",
       "0          N         Pass             -159.0                  NaN  546669.0   \n",
       "1          N         Pass             -159.0                  NaN  546662.0   \n",
       "2          N         Pass             -159.0                  NaN  546652.0   \n",
       "3          N         Pass             -159.0                  NaN  546668.0   \n",
       "4          N         Pass             -159.0                  NaN  546652.0   \n",
       "\n",
       "   date  sum_click  \n",
       "0  -5.0       16.0  \n",
       "1  -5.0       44.0  \n",
       "2  -5.0        1.0  \n",
       "3  -5.0        2.0  \n",
       "4  -5.0        1.0  "
      ]
     },
     "execution_count": 123,
     "metadata": {},
     "output_type": "execute_result"
    }
   ],
   "source": [
    "df_mergedInfoRegVle = pd.merge(df_mergedInfoReg, df_studentVle, \n",
    "                               how=\"left\", left_on=['code_module','code_presentation', \"id_student\"],\n",
    "                               right_on=['code_module', 'code_presentation',\"id_student\"])\n",
    "df_mergedInfoRegVle.head()"
   ]
  },
  {
   "cell_type": "code",
   "execution_count": 124,
   "metadata": {
    "collapsed": false,
    "nbpresent": {
     "id": "f97b0fed-06c5-4608-bbef-86c6b77bed24"
    }
   },
   "outputs": [
    {
     "name": "stdout",
     "output_type": "stream",
     "text": [
      "code_module  code_presentation  id_student\n",
      "AAA          2013J              11391         196\n",
      "                                28400         430\n",
      "                                30268          76\n",
      "                                31604         663\n",
      "                                32885         352\n",
      "                                38053         723\n",
      "                                45462         355\n",
      "                                45642         531\n",
      "                                52130         593\n",
      "                                53025         904\n",
      "Name: id_student, dtype: int64\n"
     ]
    },
    {
     "data": {
      "text/plain": [
       "<matplotlib.axes._subplots.AxesSubplot at 0x1fcdf160>"
      ]
     },
     "execution_count": 124,
     "metadata": {},
     "output_type": "execute_result"
    },
    {
     "data": {
      "image/png": "[encoded data removed]",
      "text/plain": [
       "<matplotlib.figure.Figure at 0x1fe9b908>"
      ]
     },
     "metadata": {},
     "output_type": "display_data"
    }
   ],
   "source": [
    "print(df_mergedInfoRegVle.groupby(['code_module','code_presentation','id_student']).id_student.count()[0:10])\n",
    "df_mergedInfoRegVle.groupby(['code_module','code_presentation']\n",
    "                           )['sum_click'].mean().plot.barh(\n",
    "    title='average # of clicks for each module presentation', figsize=[10,10], grid=True,color=\"lightblue\")"
   ]
  },
  {
   "cell_type": "markdown",
   "metadata": {
    "nbpresent": {
     "id": "9a974d56-a0cc-4bfd-bb59-027da0ca6429"
    }
   },
   "source": [
    "<h3> 4. Adding the attribute \"completion\" to the merged data frame</h3>"
   ]
  },
  {
   "cell_type": "markdown",
   "metadata": {},
   "source": [
    "<h5> Removing the records that have inconsistent information for \"final_result\" and \"date_unregistration\"</h5>"
   ]
  },
  {
   "cell_type": "code",
   "execution_count": 125,
   "metadata": {
    "collapsed": false
   },
   "outputs": [
    {
     "data": {
      "text/html": [
       "<div>\n",
       "<table border=\"1\" class=\"dataframe\">\n",
       "  <thead>\n",
       "    <tr style=\"text-align: right;\">\n",
       "      <th></th>\n",
       "      <th>code_module</th>\n",
       "      <th>code_presentation</th>\n",
       "      <th>id_student</th>\n",
       "      <th>gender</th>\n",
       "      <th>region</th>\n",
       "      <th>highest_education</th>\n",
       "      <th>imd_band</th>\n",
       "      <th>age_band</th>\n",
       "      <th>num_of_prev_attempts</th>\n",
       "      <th>studied_credits</th>\n",
       "      <th>disability</th>\n",
       "      <th>final_result</th>\n",
       "      <th>date_registration</th>\n",
       "      <th>date_unregistration</th>\n",
       "    </tr>\n",
       "  </thead>\n",
       "  <tbody>\n",
       "    <tr>\n",
       "      <th>6315</th>\n",
       "      <td>BBB</td>\n",
       "      <td>2014B</td>\n",
       "      <td>2512349</td>\n",
       "      <td>F</td>\n",
       "      <td>Yorkshire Region</td>\n",
       "      <td>Lower Than A Level</td>\n",
       "      <td>40-50%</td>\n",
       "      <td>35-55</td>\n",
       "      <td>0</td>\n",
       "      <td>60</td>\n",
       "      <td>N</td>\n",
       "      <td>Withdrawn</td>\n",
       "      <td>-17.0</td>\n",
       "      <td>NaN</td>\n",
       "    </tr>\n",
       "    <tr>\n",
       "      <th>6484</th>\n",
       "      <td>BBB</td>\n",
       "      <td>2014J</td>\n",
       "      <td>271047</td>\n",
       "      <td>F</td>\n",
       "      <td>South West Region</td>\n",
       "      <td>Lower Than A Level</td>\n",
       "      <td>90-100%</td>\n",
       "      <td>0-35</td>\n",
       "      <td>0</td>\n",
       "      <td>60</td>\n",
       "      <td>N</td>\n",
       "      <td>Withdrawn</td>\n",
       "      <td>-25.0</td>\n",
       "      <td>NaN</td>\n",
       "    </tr>\n",
       "    <tr>\n",
       "      <th>6601</th>\n",
       "      <td>BBB</td>\n",
       "      <td>2014J</td>\n",
       "      <td>417978</td>\n",
       "      <td>F</td>\n",
       "      <td>Wales</td>\n",
       "      <td>HE Qualification</td>\n",
       "      <td>80-90%</td>\n",
       "      <td>35-55</td>\n",
       "      <td>0</td>\n",
       "      <td>60</td>\n",
       "      <td>N</td>\n",
       "      <td>Withdrawn</td>\n",
       "      <td>-24.0</td>\n",
       "      <td>NaN</td>\n",
       "    </tr>\n",
       "    <tr>\n",
       "      <th>7247</th>\n",
       "      <td>BBB</td>\n",
       "      <td>2014J</td>\n",
       "      <td>636660</td>\n",
       "      <td>F</td>\n",
       "      <td>North Western Region</td>\n",
       "      <td>Lower Than A Level</td>\n",
       "      <td>0-10%</td>\n",
       "      <td>0-35</td>\n",
       "      <td>0</td>\n",
       "      <td>60</td>\n",
       "      <td>N</td>\n",
       "      <td>Withdrawn</td>\n",
       "      <td>-113.0</td>\n",
       "      <td>NaN</td>\n",
       "    </tr>\n",
       "    <tr>\n",
       "      <th>7410</th>\n",
       "      <td>BBB</td>\n",
       "      <td>2014J</td>\n",
       "      <td>647876</td>\n",
       "      <td>F</td>\n",
       "      <td>East Anglian Region</td>\n",
       "      <td>Lower Than A Level</td>\n",
       "      <td>80-90%</td>\n",
       "      <td>0-35</td>\n",
       "      <td>0</td>\n",
       "      <td>120</td>\n",
       "      <td>N</td>\n",
       "      <td>Withdrawn</td>\n",
       "      <td>-162.0</td>\n",
       "      <td>NaN</td>\n",
       "    </tr>\n",
       "    <tr>\n",
       "      <th>7596</th>\n",
       "      <td>BBB</td>\n",
       "      <td>2014J</td>\n",
       "      <td>652754</td>\n",
       "      <td>F</td>\n",
       "      <td>South Region</td>\n",
       "      <td>Lower Than A Level</td>\n",
       "      <td>70-80%</td>\n",
       "      <td>0-35</td>\n",
       "      <td>0</td>\n",
       "      <td>60</td>\n",
       "      <td>N</td>\n",
       "      <td>Withdrawn</td>\n",
       "      <td>-143.0</td>\n",
       "      <td>NaN</td>\n",
       "    </tr>\n",
       "    <tr>\n",
       "      <th>7777</th>\n",
       "      <td>BBB</td>\n",
       "      <td>2014J</td>\n",
       "      <td>675671</td>\n",
       "      <td>F</td>\n",
       "      <td>West Midlands Region</td>\n",
       "      <td>A Level or Equivalent</td>\n",
       "      <td>0-10%</td>\n",
       "      <td>35-55</td>\n",
       "      <td>0</td>\n",
       "      <td>60</td>\n",
       "      <td>N</td>\n",
       "      <td>Withdrawn</td>\n",
       "      <td>-15.0</td>\n",
       "      <td>NaN</td>\n",
       "    </tr>\n",
       "    <tr>\n",
       "      <th>7953</th>\n",
       "      <td>BBB</td>\n",
       "      <td>2014J</td>\n",
       "      <td>682375</td>\n",
       "      <td>F</td>\n",
       "      <td>South Region</td>\n",
       "      <td>Lower Than A Level</td>\n",
       "      <td>90-100%</td>\n",
       "      <td>0-35</td>\n",
       "      <td>0</td>\n",
       "      <td>120</td>\n",
       "      <td>N</td>\n",
       "      <td>Withdrawn</td>\n",
       "      <td>-63.0</td>\n",
       "      <td>NaN</td>\n",
       "    </tr>\n",
       "    <tr>\n",
       "      <th>7957</th>\n",
       "      <td>BBB</td>\n",
       "      <td>2014J</td>\n",
       "      <td>682538</td>\n",
       "      <td>M</td>\n",
       "      <td>West Midlands Region</td>\n",
       "      <td>Lower Than A Level</td>\n",
       "      <td>10-20</td>\n",
       "      <td>0-35</td>\n",
       "      <td>0</td>\n",
       "      <td>120</td>\n",
       "      <td>N</td>\n",
       "      <td>Withdrawn</td>\n",
       "      <td>-24.0</td>\n",
       "      <td>NaN</td>\n",
       "    </tr>\n",
       "    <tr>\n",
       "      <th>7977</th>\n",
       "      <td>BBB</td>\n",
       "      <td>2014J</td>\n",
       "      <td>683536</td>\n",
       "      <td>F</td>\n",
       "      <td>North Western Region</td>\n",
       "      <td>Lower Than A Level</td>\n",
       "      <td>0-10%</td>\n",
       "      <td>0-35</td>\n",
       "      <td>0</td>\n",
       "      <td>120</td>\n",
       "      <td>N</td>\n",
       "      <td>Withdrawn</td>\n",
       "      <td>-74.0</td>\n",
       "      <td>NaN</td>\n",
       "    </tr>\n",
       "    <tr>\n",
       "      <th>8126</th>\n",
       "      <td>BBB</td>\n",
       "      <td>2014J</td>\n",
       "      <td>688600</td>\n",
       "      <td>F</td>\n",
       "      <td>London Region</td>\n",
       "      <td>Lower Than A Level</td>\n",
       "      <td>50-60%</td>\n",
       "      <td>0-35</td>\n",
       "      <td>0</td>\n",
       "      <td>120</td>\n",
       "      <td>N</td>\n",
       "      <td>Withdrawn</td>\n",
       "      <td>-51.0</td>\n",
       "      <td>NaN</td>\n",
       "    </tr>\n",
       "    <tr>\n",
       "      <th>8186</th>\n",
       "      <td>BBB</td>\n",
       "      <td>2014J</td>\n",
       "      <td>690102</td>\n",
       "      <td>M</td>\n",
       "      <td>Ireland</td>\n",
       "      <td>Lower Than A Level</td>\n",
       "      <td>10-20</td>\n",
       "      <td>35-55</td>\n",
       "      <td>0</td>\n",
       "      <td>60</td>\n",
       "      <td>N</td>\n",
       "      <td>Withdrawn</td>\n",
       "      <td>17.0</td>\n",
       "      <td>NaN</td>\n",
       "    </tr>\n",
       "    <tr>\n",
       "      <th>8305</th>\n",
       "      <td>BBB</td>\n",
       "      <td>2014J</td>\n",
       "      <td>693934</td>\n",
       "      <td>F</td>\n",
       "      <td>Scotland</td>\n",
       "      <td>Lower Than A Level</td>\n",
       "      <td>20-30%</td>\n",
       "      <td>0-35</td>\n",
       "      <td>0</td>\n",
       "      <td>120</td>\n",
       "      <td>N</td>\n",
       "      <td>Withdrawn</td>\n",
       "      <td>-14.0</td>\n",
       "      <td>NaN</td>\n",
       "    </tr>\n",
       "    <tr>\n",
       "      <th>8452</th>\n",
       "      <td>BBB</td>\n",
       "      <td>2014J</td>\n",
       "      <td>698352</td>\n",
       "      <td>F</td>\n",
       "      <td>Yorkshire Region</td>\n",
       "      <td>A Level or Equivalent</td>\n",
       "      <td>0-10%</td>\n",
       "      <td>0-35</td>\n",
       "      <td>0</td>\n",
       "      <td>60</td>\n",
       "      <td>N</td>\n",
       "      <td>Withdrawn</td>\n",
       "      <td>-21.0</td>\n",
       "      <td>NaN</td>\n",
       "    </tr>\n",
       "    <tr>\n",
       "      <th>10884</th>\n",
       "      <td>CCC</td>\n",
       "      <td>2014J</td>\n",
       "      <td>393094</td>\n",
       "      <td>M</td>\n",
       "      <td>West Midlands Region</td>\n",
       "      <td>Lower Than A Level</td>\n",
       "      <td>20-30%</td>\n",
       "      <td>0-35</td>\n",
       "      <td>0</td>\n",
       "      <td>150</td>\n",
       "      <td>N</td>\n",
       "      <td>Withdrawn</td>\n",
       "      <td>-15.0</td>\n",
       "      <td>NaN</td>\n",
       "    </tr>\n",
       "    <tr>\n",
       "      <th>11038</th>\n",
       "      <td>CCC</td>\n",
       "      <td>2014J</td>\n",
       "      <td>482938</td>\n",
       "      <td>M</td>\n",
       "      <td>South East Region</td>\n",
       "      <td>Lower Than A Level</td>\n",
       "      <td>30-40%</td>\n",
       "      <td>35-55</td>\n",
       "      <td>0</td>\n",
       "      <td>180</td>\n",
       "      <td>N</td>\n",
       "      <td>Withdrawn</td>\n",
       "      <td>-46.0</td>\n",
       "      <td>NaN</td>\n",
       "    </tr>\n",
       "    <tr>\n",
       "      <th>11078</th>\n",
       "      <td>CCC</td>\n",
       "      <td>2014J</td>\n",
       "      <td>498225</td>\n",
       "      <td>M</td>\n",
       "      <td>South Region</td>\n",
       "      <td>HE Qualification</td>\n",
       "      <td>70-80%</td>\n",
       "      <td>35-55</td>\n",
       "      <td>1</td>\n",
       "      <td>30</td>\n",
       "      <td>N</td>\n",
       "      <td>Withdrawn</td>\n",
       "      <td>-106.0</td>\n",
       "      <td>NaN</td>\n",
       "    </tr>\n",
       "    <tr>\n",
       "      <th>11088</th>\n",
       "      <td>CCC</td>\n",
       "      <td>2014J</td>\n",
       "      <td>500031</td>\n",
       "      <td>F</td>\n",
       "      <td>South West Region</td>\n",
       "      <td>Lower Than A Level</td>\n",
       "      <td>80-90%</td>\n",
       "      <td>35-55</td>\n",
       "      <td>0</td>\n",
       "      <td>60</td>\n",
       "      <td>N</td>\n",
       "      <td>Withdrawn</td>\n",
       "      <td>-30.0</td>\n",
       "      <td>NaN</td>\n",
       "    </tr>\n",
       "    <tr>\n",
       "      <th>11132</th>\n",
       "      <td>CCC</td>\n",
       "      <td>2014J</td>\n",
       "      <td>510846</td>\n",
       "      <td>M</td>\n",
       "      <td>South West Region</td>\n",
       "      <td>Lower Than A Level</td>\n",
       "      <td>10-20</td>\n",
       "      <td>35-55</td>\n",
       "      <td>0</td>\n",
       "      <td>60</td>\n",
       "      <td>N</td>\n",
       "      <td>Withdrawn</td>\n",
       "      <td>-84.0</td>\n",
       "      <td>NaN</td>\n",
       "    </tr>\n",
       "    <tr>\n",
       "      <th>11140</th>\n",
       "      <td>CCC</td>\n",
       "      <td>2014J</td>\n",
       "      <td>512546</td>\n",
       "      <td>M</td>\n",
       "      <td>Scotland</td>\n",
       "      <td>A Level or Equivalent</td>\n",
       "      <td>30-40%</td>\n",
       "      <td>0-35</td>\n",
       "      <td>0</td>\n",
       "      <td>30</td>\n",
       "      <td>N</td>\n",
       "      <td>Withdrawn</td>\n",
       "      <td>-29.0</td>\n",
       "      <td>NaN</td>\n",
       "    </tr>\n",
       "    <tr>\n",
       "      <th>11198</th>\n",
       "      <td>CCC</td>\n",
       "      <td>2014J</td>\n",
       "      <td>529309</td>\n",
       "      <td>M</td>\n",
       "      <td>East Midlands Region</td>\n",
       "      <td>A Level or Equivalent</td>\n",
       "      <td>40-50%</td>\n",
       "      <td>0-35</td>\n",
       "      <td>0</td>\n",
       "      <td>90</td>\n",
       "      <td>N</td>\n",
       "      <td>Withdrawn</td>\n",
       "      <td>-109.0</td>\n",
       "      <td>NaN</td>\n",
       "    </tr>\n",
       "    <tr>\n",
       "      <th>11240</th>\n",
       "      <td>CCC</td>\n",
       "      <td>2014J</td>\n",
       "      <td>542180</td>\n",
       "      <td>F</td>\n",
       "      <td>South West Region</td>\n",
       "      <td>Lower Than A Level</td>\n",
       "      <td>40-50%</td>\n",
       "      <td>0-35</td>\n",
       "      <td>0</td>\n",
       "      <td>300</td>\n",
       "      <td>Y</td>\n",
       "      <td>Withdrawn</td>\n",
       "      <td>-87.0</td>\n",
       "      <td>NaN</td>\n",
       "    </tr>\n",
       "    <tr>\n",
       "      <th>11331</th>\n",
       "      <td>CCC</td>\n",
       "      <td>2014J</td>\n",
       "      <td>560399</td>\n",
       "      <td>M</td>\n",
       "      <td>South Region</td>\n",
       "      <td>HE Qualification</td>\n",
       "      <td>70-80%</td>\n",
       "      <td>35-55</td>\n",
       "      <td>0</td>\n",
       "      <td>90</td>\n",
       "      <td>N</td>\n",
       "      <td>Withdrawn</td>\n",
       "      <td>-31.0</td>\n",
       "      <td>NaN</td>\n",
       "    </tr>\n",
       "    <tr>\n",
       "      <th>11454</th>\n",
       "      <td>CCC</td>\n",
       "      <td>2014J</td>\n",
       "      <td>575265</td>\n",
       "      <td>M</td>\n",
       "      <td>Yorkshire Region</td>\n",
       "      <td>Lower Than A Level</td>\n",
       "      <td>0-10%</td>\n",
       "      <td>0-35</td>\n",
       "      <td>0</td>\n",
       "      <td>90</td>\n",
       "      <td>N</td>\n",
       "      <td>Withdrawn</td>\n",
       "      <td>-81.0</td>\n",
       "      <td>NaN</td>\n",
       "    </tr>\n",
       "    <tr>\n",
       "      <th>11572</th>\n",
       "      <td>CCC</td>\n",
       "      <td>2014J</td>\n",
       "      <td>587547</td>\n",
       "      <td>M</td>\n",
       "      <td>Yorkshire Region</td>\n",
       "      <td>A Level or Equivalent</td>\n",
       "      <td>0-10%</td>\n",
       "      <td>35-55</td>\n",
       "      <td>0</td>\n",
       "      <td>90</td>\n",
       "      <td>N</td>\n",
       "      <td>Withdrawn</td>\n",
       "      <td>-84.0</td>\n",
       "      <td>NaN</td>\n",
       "    </tr>\n",
       "    <tr>\n",
       "      <th>11636</th>\n",
       "      <td>CCC</td>\n",
       "      <td>2014J</td>\n",
       "      <td>594319</td>\n",
       "      <td>M</td>\n",
       "      <td>Scotland</td>\n",
       "      <td>HE Qualification</td>\n",
       "      <td>30-40%</td>\n",
       "      <td>0-35</td>\n",
       "      <td>0</td>\n",
       "      <td>120</td>\n",
       "      <td>N</td>\n",
       "      <td>Withdrawn</td>\n",
       "      <td>-92.0</td>\n",
       "      <td>NaN</td>\n",
       "    </tr>\n",
       "    <tr>\n",
       "      <th>11640</th>\n",
       "      <td>CCC</td>\n",
       "      <td>2014J</td>\n",
       "      <td>594627</td>\n",
       "      <td>M</td>\n",
       "      <td>North Western Region</td>\n",
       "      <td>A Level or Equivalent</td>\n",
       "      <td>30-40%</td>\n",
       "      <td>0-35</td>\n",
       "      <td>0</td>\n",
       "      <td>120</td>\n",
       "      <td>N</td>\n",
       "      <td>Withdrawn</td>\n",
       "      <td>-135.0</td>\n",
       "      <td>NaN</td>\n",
       "    </tr>\n",
       "    <tr>\n",
       "      <th>11721</th>\n",
       "      <td>CCC</td>\n",
       "      <td>2014J</td>\n",
       "      <td>601857</td>\n",
       "      <td>F</td>\n",
       "      <td>South Region</td>\n",
       "      <td>Lower Than A Level</td>\n",
       "      <td>60-70%</td>\n",
       "      <td>0-35</td>\n",
       "      <td>0</td>\n",
       "      <td>120</td>\n",
       "      <td>Y</td>\n",
       "      <td>Withdrawn</td>\n",
       "      <td>-155.0</td>\n",
       "      <td>NaN</td>\n",
       "    </tr>\n",
       "    <tr>\n",
       "      <th>11748</th>\n",
       "      <td>CCC</td>\n",
       "      <td>2014J</td>\n",
       "      <td>604379</td>\n",
       "      <td>M</td>\n",
       "      <td>East Anglian Region</td>\n",
       "      <td>A Level or Equivalent</td>\n",
       "      <td>20-30%</td>\n",
       "      <td>0-35</td>\n",
       "      <td>0</td>\n",
       "      <td>90</td>\n",
       "      <td>N</td>\n",
       "      <td>Withdrawn</td>\n",
       "      <td>-56.0</td>\n",
       "      <td>NaN</td>\n",
       "    </tr>\n",
       "    <tr>\n",
       "      <th>11766</th>\n",
       "      <td>CCC</td>\n",
       "      <td>2014J</td>\n",
       "      <td>606182</td>\n",
       "      <td>M</td>\n",
       "      <td>Scotland</td>\n",
       "      <td>A Level or Equivalent</td>\n",
       "      <td>70-80%</td>\n",
       "      <td>35-55</td>\n",
       "      <td>0</td>\n",
       "      <td>60</td>\n",
       "      <td>N</td>\n",
       "      <td>Withdrawn</td>\n",
       "      <td>-108.0</td>\n",
       "      <td>NaN</td>\n",
       "    </tr>\n",
       "    <tr>\n",
       "      <th>...</th>\n",
       "      <td>...</td>\n",
       "      <td>...</td>\n",
       "      <td>...</td>\n",
       "      <td>...</td>\n",
       "      <td>...</td>\n",
       "      <td>...</td>\n",
       "      <td>...</td>\n",
       "      <td>...</td>\n",
       "      <td>...</td>\n",
       "      <td>...</td>\n",
       "      <td>...</td>\n",
       "      <td>...</td>\n",
       "      <td>...</td>\n",
       "      <td>...</td>\n",
       "    </tr>\n",
       "    <tr>\n",
       "      <th>21990</th>\n",
       "      <td>EEE</td>\n",
       "      <td>2014J</td>\n",
       "      <td>682673</td>\n",
       "      <td>F</td>\n",
       "      <td>South East Region</td>\n",
       "      <td>HE Qualification</td>\n",
       "      <td>30-40%</td>\n",
       "      <td>0-35</td>\n",
       "      <td>0</td>\n",
       "      <td>60</td>\n",
       "      <td>N</td>\n",
       "      <td>Withdrawn</td>\n",
       "      <td>-66.0</td>\n",
       "      <td>NaN</td>\n",
       "    </tr>\n",
       "    <tr>\n",
       "      <th>25854</th>\n",
       "      <td>FFF</td>\n",
       "      <td>2013J</td>\n",
       "      <td>607407</td>\n",
       "      <td>F</td>\n",
       "      <td>North Western Region</td>\n",
       "      <td>A Level or Equivalent</td>\n",
       "      <td>0-10%</td>\n",
       "      <td>0-35</td>\n",
       "      <td>0</td>\n",
       "      <td>120</td>\n",
       "      <td>N</td>\n",
       "      <td>Withdrawn</td>\n",
       "      <td>-29.0</td>\n",
       "      <td>NaN</td>\n",
       "    </tr>\n",
       "    <tr>\n",
       "      <th>26444</th>\n",
       "      <td>FFF</td>\n",
       "      <td>2014B</td>\n",
       "      <td>437529</td>\n",
       "      <td>M</td>\n",
       "      <td>South Region</td>\n",
       "      <td>A Level or Equivalent</td>\n",
       "      <td>80-90%</td>\n",
       "      <td>35-55</td>\n",
       "      <td>0</td>\n",
       "      <td>60</td>\n",
       "      <td>N</td>\n",
       "      <td>Withdrawn</td>\n",
       "      <td>-57.0</td>\n",
       "      <td>NaN</td>\n",
       "    </tr>\n",
       "    <tr>\n",
       "      <th>27711</th>\n",
       "      <td>FFF</td>\n",
       "      <td>2014J</td>\n",
       "      <td>64777</td>\n",
       "      <td>M</td>\n",
       "      <td>North Western Region</td>\n",
       "      <td>Lower Than A Level</td>\n",
       "      <td>30-40%</td>\n",
       "      <td>0-35</td>\n",
       "      <td>1</td>\n",
       "      <td>90</td>\n",
       "      <td>Y</td>\n",
       "      <td>Withdrawn</td>\n",
       "      <td>-123.0</td>\n",
       "      <td>NaN</td>\n",
       "    </tr>\n",
       "    <tr>\n",
       "      <th>27758</th>\n",
       "      <td>FFF</td>\n",
       "      <td>2014J</td>\n",
       "      <td>149964</td>\n",
       "      <td>M</td>\n",
       "      <td>East Anglian Region</td>\n",
       "      <td>Lower Than A Level</td>\n",
       "      <td>70-80%</td>\n",
       "      <td>0-35</td>\n",
       "      <td>0</td>\n",
       "      <td>240</td>\n",
       "      <td>N</td>\n",
       "      <td>Withdrawn</td>\n",
       "      <td>-75.0</td>\n",
       "      <td>NaN</td>\n",
       "    </tr>\n",
       "    <tr>\n",
       "      <th>27783</th>\n",
       "      <td>FFF</td>\n",
       "      <td>2014J</td>\n",
       "      <td>197188</td>\n",
       "      <td>M</td>\n",
       "      <td>North Western Region</td>\n",
       "      <td>Lower Than A Level</td>\n",
       "      <td>0-10%</td>\n",
       "      <td>0-35</td>\n",
       "      <td>0</td>\n",
       "      <td>120</td>\n",
       "      <td>Y</td>\n",
       "      <td>Withdrawn</td>\n",
       "      <td>-29.0</td>\n",
       "      <td>NaN</td>\n",
       "    </tr>\n",
       "    <tr>\n",
       "      <th>27827</th>\n",
       "      <td>FFF</td>\n",
       "      <td>2014J</td>\n",
       "      <td>275127</td>\n",
       "      <td>M</td>\n",
       "      <td>Wales</td>\n",
       "      <td>A Level or Equivalent</td>\n",
       "      <td>80-90%</td>\n",
       "      <td>0-35</td>\n",
       "      <td>0</td>\n",
       "      <td>120</td>\n",
       "      <td>N</td>\n",
       "      <td>Withdrawn</td>\n",
       "      <td>-15.0</td>\n",
       "      <td>NaN</td>\n",
       "    </tr>\n",
       "    <tr>\n",
       "      <th>28197</th>\n",
       "      <td>FFF</td>\n",
       "      <td>2014J</td>\n",
       "      <td>561311</td>\n",
       "      <td>M</td>\n",
       "      <td>West Midlands Region</td>\n",
       "      <td>Lower Than A Level</td>\n",
       "      <td>0-10%</td>\n",
       "      <td>0-35</td>\n",
       "      <td>0</td>\n",
       "      <td>120</td>\n",
       "      <td>Y</td>\n",
       "      <td>Withdrawn</td>\n",
       "      <td>-36.0</td>\n",
       "      <td>NaN</td>\n",
       "    </tr>\n",
       "    <tr>\n",
       "      <th>28343</th>\n",
       "      <td>FFF</td>\n",
       "      <td>2014J</td>\n",
       "      <td>595262</td>\n",
       "      <td>M</td>\n",
       "      <td>West Midlands Region</td>\n",
       "      <td>Lower Than A Level</td>\n",
       "      <td>0-10%</td>\n",
       "      <td>0-35</td>\n",
       "      <td>0</td>\n",
       "      <td>90</td>\n",
       "      <td>N</td>\n",
       "      <td>Withdrawn</td>\n",
       "      <td>-31.0</td>\n",
       "      <td>NaN</td>\n",
       "    </tr>\n",
       "    <tr>\n",
       "      <th>28501</th>\n",
       "      <td>FFF</td>\n",
       "      <td>2014J</td>\n",
       "      <td>627379</td>\n",
       "      <td>M</td>\n",
       "      <td>London Region</td>\n",
       "      <td>Lower Than A Level</td>\n",
       "      <td>30-40%</td>\n",
       "      <td>0-35</td>\n",
       "      <td>1</td>\n",
       "      <td>90</td>\n",
       "      <td>N</td>\n",
       "      <td>Withdrawn</td>\n",
       "      <td>-109.0</td>\n",
       "      <td>NaN</td>\n",
       "    </tr>\n",
       "    <tr>\n",
       "      <th>28516</th>\n",
       "      <td>FFF</td>\n",
       "      <td>2014J</td>\n",
       "      <td>629394</td>\n",
       "      <td>M</td>\n",
       "      <td>Scotland</td>\n",
       "      <td>A Level or Equivalent</td>\n",
       "      <td>20-30%</td>\n",
       "      <td>0-35</td>\n",
       "      <td>1</td>\n",
       "      <td>60</td>\n",
       "      <td>N</td>\n",
       "      <td>Withdrawn</td>\n",
       "      <td>-28.0</td>\n",
       "      <td>NaN</td>\n",
       "    </tr>\n",
       "    <tr>\n",
       "      <th>28522</th>\n",
       "      <td>FFF</td>\n",
       "      <td>2014J</td>\n",
       "      <td>629907</td>\n",
       "      <td>F</td>\n",
       "      <td>North Western Region</td>\n",
       "      <td>Lower Than A Level</td>\n",
       "      <td>10-20</td>\n",
       "      <td>35-55</td>\n",
       "      <td>0</td>\n",
       "      <td>120</td>\n",
       "      <td>N</td>\n",
       "      <td>Withdrawn</td>\n",
       "      <td>-95.0</td>\n",
       "      <td>NaN</td>\n",
       "    </tr>\n",
       "    <tr>\n",
       "      <th>28547</th>\n",
       "      <td>FFF</td>\n",
       "      <td>2014J</td>\n",
       "      <td>631772</td>\n",
       "      <td>M</td>\n",
       "      <td>Scotland</td>\n",
       "      <td>Lower Than A Level</td>\n",
       "      <td>90-100%</td>\n",
       "      <td>35-55</td>\n",
       "      <td>0</td>\n",
       "      <td>120</td>\n",
       "      <td>N</td>\n",
       "      <td>Withdrawn</td>\n",
       "      <td>-28.0</td>\n",
       "      <td>NaN</td>\n",
       "    </tr>\n",
       "    <tr>\n",
       "      <th>28557</th>\n",
       "      <td>FFF</td>\n",
       "      <td>2014J</td>\n",
       "      <td>632634</td>\n",
       "      <td>M</td>\n",
       "      <td>East Midlands Region</td>\n",
       "      <td>A Level or Equivalent</td>\n",
       "      <td>40-50%</td>\n",
       "      <td>0-35</td>\n",
       "      <td>1</td>\n",
       "      <td>60</td>\n",
       "      <td>Y</td>\n",
       "      <td>Withdrawn</td>\n",
       "      <td>-134.0</td>\n",
       "      <td>NaN</td>\n",
       "    </tr>\n",
       "    <tr>\n",
       "      <th>28636</th>\n",
       "      <td>FFF</td>\n",
       "      <td>2014J</td>\n",
       "      <td>639993</td>\n",
       "      <td>M</td>\n",
       "      <td>East Anglian Region</td>\n",
       "      <td>A Level or Equivalent</td>\n",
       "      <td>60-70%</td>\n",
       "      <td>0-35</td>\n",
       "      <td>0</td>\n",
       "      <td>60</td>\n",
       "      <td>Y</td>\n",
       "      <td>Withdrawn</td>\n",
       "      <td>-37.0</td>\n",
       "      <td>NaN</td>\n",
       "    </tr>\n",
       "    <tr>\n",
       "      <th>28777</th>\n",
       "      <td>FFF</td>\n",
       "      <td>2014J</td>\n",
       "      <td>646498</td>\n",
       "      <td>M</td>\n",
       "      <td>South West Region</td>\n",
       "      <td>A Level or Equivalent</td>\n",
       "      <td>20-30%</td>\n",
       "      <td>0-35</td>\n",
       "      <td>0</td>\n",
       "      <td>120</td>\n",
       "      <td>Y</td>\n",
       "      <td>Withdrawn</td>\n",
       "      <td>-135.0</td>\n",
       "      <td>NaN</td>\n",
       "    </tr>\n",
       "    <tr>\n",
       "      <th>28860</th>\n",
       "      <td>FFF</td>\n",
       "      <td>2014J</td>\n",
       "      <td>648576</td>\n",
       "      <td>M</td>\n",
       "      <td>East Midlands Region</td>\n",
       "      <td>Lower Than A Level</td>\n",
       "      <td>30-40%</td>\n",
       "      <td>0-35</td>\n",
       "      <td>0</td>\n",
       "      <td>60</td>\n",
       "      <td>N</td>\n",
       "      <td>Withdrawn</td>\n",
       "      <td>-123.0</td>\n",
       "      <td>NaN</td>\n",
       "    </tr>\n",
       "    <tr>\n",
       "      <th>28863</th>\n",
       "      <td>FFF</td>\n",
       "      <td>2014J</td>\n",
       "      <td>648611</td>\n",
       "      <td>M</td>\n",
       "      <td>Yorkshire Region</td>\n",
       "      <td>Lower Than A Level</td>\n",
       "      <td>30-40%</td>\n",
       "      <td>0-35</td>\n",
       "      <td>0</td>\n",
       "      <td>60</td>\n",
       "      <td>N</td>\n",
       "      <td>Withdrawn</td>\n",
       "      <td>-154.0</td>\n",
       "      <td>NaN</td>\n",
       "    </tr>\n",
       "    <tr>\n",
       "      <th>29150</th>\n",
       "      <td>FFF</td>\n",
       "      <td>2014J</td>\n",
       "      <td>656622</td>\n",
       "      <td>M</td>\n",
       "      <td>West Midlands Region</td>\n",
       "      <td>Lower Than A Level</td>\n",
       "      <td>60-70%</td>\n",
       "      <td>0-35</td>\n",
       "      <td>0</td>\n",
       "      <td>60</td>\n",
       "      <td>N</td>\n",
       "      <td>Withdrawn</td>\n",
       "      <td>-51.0</td>\n",
       "      <td>NaN</td>\n",
       "    </tr>\n",
       "    <tr>\n",
       "      <th>29198</th>\n",
       "      <td>FFF</td>\n",
       "      <td>2014J</td>\n",
       "      <td>674935</td>\n",
       "      <td>M</td>\n",
       "      <td>Wales</td>\n",
       "      <td>A Level or Equivalent</td>\n",
       "      <td>90-100%</td>\n",
       "      <td>0-35</td>\n",
       "      <td>0</td>\n",
       "      <td>90</td>\n",
       "      <td>N</td>\n",
       "      <td>Withdrawn</td>\n",
       "      <td>-112.0</td>\n",
       "      <td>NaN</td>\n",
       "    </tr>\n",
       "    <tr>\n",
       "      <th>29219</th>\n",
       "      <td>FFF</td>\n",
       "      <td>2014J</td>\n",
       "      <td>675613</td>\n",
       "      <td>M</td>\n",
       "      <td>North Western Region</td>\n",
       "      <td>A Level or Equivalent</td>\n",
       "      <td>20-30%</td>\n",
       "      <td>0-35</td>\n",
       "      <td>0</td>\n",
       "      <td>90</td>\n",
       "      <td>N</td>\n",
       "      <td>Withdrawn</td>\n",
       "      <td>-107.0</td>\n",
       "      <td>NaN</td>\n",
       "    </tr>\n",
       "    <tr>\n",
       "      <th>29360</th>\n",
       "      <td>FFF</td>\n",
       "      <td>2014J</td>\n",
       "      <td>680349</td>\n",
       "      <td>M</td>\n",
       "      <td>Yorkshire Region</td>\n",
       "      <td>A Level or Equivalent</td>\n",
       "      <td>70-80%</td>\n",
       "      <td>0-35</td>\n",
       "      <td>0</td>\n",
       "      <td>60</td>\n",
       "      <td>N</td>\n",
       "      <td>Withdrawn</td>\n",
       "      <td>-71.0</td>\n",
       "      <td>NaN</td>\n",
       "    </tr>\n",
       "    <tr>\n",
       "      <th>29667</th>\n",
       "      <td>FFF</td>\n",
       "      <td>2014J</td>\n",
       "      <td>690137</td>\n",
       "      <td>M</td>\n",
       "      <td>East Anglian Region</td>\n",
       "      <td>Lower Than A Level</td>\n",
       "      <td>40-50%</td>\n",
       "      <td>0-35</td>\n",
       "      <td>0</td>\n",
       "      <td>60</td>\n",
       "      <td>N</td>\n",
       "      <td>Withdrawn</td>\n",
       "      <td>-42.0</td>\n",
       "      <td>NaN</td>\n",
       "    </tr>\n",
       "    <tr>\n",
       "      <th>29739</th>\n",
       "      <td>FFF</td>\n",
       "      <td>2014J</td>\n",
       "      <td>694059</td>\n",
       "      <td>F</td>\n",
       "      <td>Scotland</td>\n",
       "      <td>HE Qualification</td>\n",
       "      <td>40-50%</td>\n",
       "      <td>35-55</td>\n",
       "      <td>0</td>\n",
       "      <td>60</td>\n",
       "      <td>N</td>\n",
       "      <td>Withdrawn</td>\n",
       "      <td>-22.0</td>\n",
       "      <td>NaN</td>\n",
       "    </tr>\n",
       "    <tr>\n",
       "      <th>29753</th>\n",
       "      <td>FFF</td>\n",
       "      <td>2014J</td>\n",
       "      <td>694715</td>\n",
       "      <td>M</td>\n",
       "      <td>East Midlands Region</td>\n",
       "      <td>A Level or Equivalent</td>\n",
       "      <td>20-30%</td>\n",
       "      <td>0-35</td>\n",
       "      <td>0</td>\n",
       "      <td>180</td>\n",
       "      <td>N</td>\n",
       "      <td>Withdrawn</td>\n",
       "      <td>-25.0</td>\n",
       "      <td>NaN</td>\n",
       "    </tr>\n",
       "    <tr>\n",
       "      <th>29978</th>\n",
       "      <td>FFF</td>\n",
       "      <td>2014J</td>\n",
       "      <td>2398260</td>\n",
       "      <td>M</td>\n",
       "      <td>London Region</td>\n",
       "      <td>Lower Than A Level</td>\n",
       "      <td>10-20</td>\n",
       "      <td>35-55</td>\n",
       "      <td>0</td>\n",
       "      <td>180</td>\n",
       "      <td>N</td>\n",
       "      <td>Withdrawn</td>\n",
       "      <td>-38.0</td>\n",
       "      <td>NaN</td>\n",
       "    </tr>\n",
       "    <tr>\n",
       "      <th>30032</th>\n",
       "      <td>FFF</td>\n",
       "      <td>2014J</td>\n",
       "      <td>2622634</td>\n",
       "      <td>M</td>\n",
       "      <td>Ireland</td>\n",
       "      <td>A Level or Equivalent</td>\n",
       "      <td>10-20</td>\n",
       "      <td>35-55</td>\n",
       "      <td>1</td>\n",
       "      <td>60</td>\n",
       "      <td>N</td>\n",
       "      <td>Withdrawn</td>\n",
       "      <td>-29.0</td>\n",
       "      <td>NaN</td>\n",
       "    </tr>\n",
       "    <tr>\n",
       "      <th>30562</th>\n",
       "      <td>GGG</td>\n",
       "      <td>2013J</td>\n",
       "      <td>590248</td>\n",
       "      <td>F</td>\n",
       "      <td>Yorkshire Region</td>\n",
       "      <td>Lower Than A Level</td>\n",
       "      <td>30-40%</td>\n",
       "      <td>0-35</td>\n",
       "      <td>0</td>\n",
       "      <td>30</td>\n",
       "      <td>N</td>\n",
       "      <td>Withdrawn</td>\n",
       "      <td>-16.0</td>\n",
       "      <td>NaN</td>\n",
       "    </tr>\n",
       "    <tr>\n",
       "      <th>32149</th>\n",
       "      <td>GGG</td>\n",
       "      <td>2014J</td>\n",
       "      <td>646891</td>\n",
       "      <td>F</td>\n",
       "      <td>South Region</td>\n",
       "      <td>Lower Than A Level</td>\n",
       "      <td>10-20</td>\n",
       "      <td>35-55</td>\n",
       "      <td>0</td>\n",
       "      <td>60</td>\n",
       "      <td>N</td>\n",
       "      <td>Withdrawn</td>\n",
       "      <td>2.0</td>\n",
       "      <td>NaN</td>\n",
       "    </tr>\n",
       "    <tr>\n",
       "      <th>32411</th>\n",
       "      <td>GGG</td>\n",
       "      <td>2014J</td>\n",
       "      <td>685028</td>\n",
       "      <td>F</td>\n",
       "      <td>Ireland</td>\n",
       "      <td>Lower Than A Level</td>\n",
       "      <td>60-70%</td>\n",
       "      <td>35-55</td>\n",
       "      <td>0</td>\n",
       "      <td>30</td>\n",
       "      <td>N</td>\n",
       "      <td>Withdrawn</td>\n",
       "      <td>-9.0</td>\n",
       "      <td>NaN</td>\n",
       "    </tr>\n",
       "  </tbody>\n",
       "</table>\n",
       "<p>93 rows × 14 columns</p>\n",
       "</div>"
      ],
      "text/plain": [
       "      code_module code_presentation  id_student gender                region  \\\n",
       "6315          BBB             2014B     2512349      F      Yorkshire Region   \n",
       "6484          BBB             2014J      271047      F     South West Region   \n",
       "6601          BBB             2014J      417978      F                 Wales   \n",
       "7247          BBB             2014J      636660      F  North Western Region   \n",
       "7410          BBB             2014J      647876      F   East Anglian Region   \n",
       "7596          BBB             2014J      652754      F          South Region   \n",
       "7777          BBB             2014J      675671      F  West Midlands Region   \n",
       "7953          BBB             2014J      682375      F          South Region   \n",
       "7957          BBB             2014J      682538      M  West Midlands Region   \n",
       "7977          BBB             2014J      683536      F  North Western Region   \n",
       "8126          BBB             2014J      688600      F         London Region   \n",
       "8186          BBB             2014J      690102      M               Ireland   \n",
       "8305          BBB             2014J      693934      F              Scotland   \n",
       "8452          BBB             2014J      698352      F      Yorkshire Region   \n",
       "10884         CCC             2014J      393094      M  West Midlands Region   \n",
       "11038         CCC             2014J      482938      M     South East Region   \n",
       "11078         CCC             2014J      498225      M          South Region   \n",
       "11088         CCC             2014J      500031      F     South West Region   \n",
       "11132         CCC             2014J      510846      M     South West Region   \n",
       "11140         CCC             2014J      512546      M              Scotland   \n",
       "11198         CCC             2014J      529309      M  East Midlands Region   \n",
       "11240         CCC             2014J      542180      F     South West Region   \n",
       "11331         CCC             2014J      560399      M          South Region   \n",
       "11454         CCC             2014J      575265      M      Yorkshire Region   \n",
       "11572         CCC             2014J      587547      M      Yorkshire Region   \n",
       "11636         CCC             2014J      594319      M              Scotland   \n",
       "11640         CCC             2014J      594627      M  North Western Region   \n",
       "11721         CCC             2014J      601857      F          South Region   \n",
       "11748         CCC             2014J      604379      M   East Anglian Region   \n",
       "11766         CCC             2014J      606182      M              Scotland   \n",
       "...           ...               ...         ...    ...                   ...   \n",
       "21990         EEE             2014J      682673      F     South East Region   \n",
       "25854         FFF             2013J      607407      F  North Western Region   \n",
       "26444         FFF             2014B      437529      M          South Region   \n",
       "27711         FFF             2014J       64777      M  North Western Region   \n",
       "27758         FFF             2014J      149964      M   East Anglian Region   \n",
       "27783         FFF             2014J      197188      M  North Western Region   \n",
       "27827         FFF             2014J      275127      M                 Wales   \n",
       "28197         FFF             2014J      561311      M  West Midlands Region   \n",
       "28343         FFF             2014J      595262      M  West Midlands Region   \n",
       "28501         FFF             2014J      627379      M         London Region   \n",
       "28516         FFF             2014J      629394      M              Scotland   \n",
       "28522         FFF             2014J      629907      F  North Western Region   \n",
       "28547         FFF             2014J      631772      M              Scotland   \n",
       "28557         FFF             2014J      632634      M  East Midlands Region   \n",
       "28636         FFF             2014J      639993      M   East Anglian Region   \n",
       "28777         FFF             2014J      646498      M     South West Region   \n",
       "28860         FFF             2014J      648576      M  East Midlands Region   \n",
       "28863         FFF             2014J      648611      M      Yorkshire Region   \n",
       "29150         FFF             2014J      656622      M  West Midlands Region   \n",
       "29198         FFF             2014J      674935      M                 Wales   \n",
       "29219         FFF             2014J      675613      M  North Western Region   \n",
       "29360         FFF             2014J      680349      M      Yorkshire Region   \n",
       "29667         FFF             2014J      690137      M   East Anglian Region   \n",
       "29739         FFF             2014J      694059      F              Scotland   \n",
       "29753         FFF             2014J      694715      M  East Midlands Region   \n",
       "29978         FFF             2014J     2398260      M         London Region   \n",
       "30032         FFF             2014J     2622634      M               Ireland   \n",
       "30562         GGG             2013J      590248      F      Yorkshire Region   \n",
       "32149         GGG             2014J      646891      F          South Region   \n",
       "32411         GGG             2014J      685028      F               Ireland   \n",
       "\n",
       "           highest_education imd_band age_band  num_of_prev_attempts  \\\n",
       "6315      Lower Than A Level   40-50%    35-55                     0   \n",
       "6484      Lower Than A Level  90-100%     0-35                     0   \n",
       "6601        HE Qualification   80-90%    35-55                     0   \n",
       "7247      Lower Than A Level    0-10%     0-35                     0   \n",
       "7410      Lower Than A Level   80-90%     0-35                     0   \n",
       "7596      Lower Than A Level   70-80%     0-35                     0   \n",
       "7777   A Level or Equivalent    0-10%    35-55                     0   \n",
       "7953      Lower Than A Level  90-100%     0-35                     0   \n",
       "7957      Lower Than A Level    10-20     0-35                     0   \n",
       "7977      Lower Than A Level    0-10%     0-35                     0   \n",
       "8126      Lower Than A Level   50-60%     0-35                     0   \n",
       "8186      Lower Than A Level    10-20    35-55                     0   \n",
       "8305      Lower Than A Level   20-30%     0-35                     0   \n",
       "8452   A Level or Equivalent    0-10%     0-35                     0   \n",
       "10884     Lower Than A Level   20-30%     0-35                     0   \n",
       "11038     Lower Than A Level   30-40%    35-55                     0   \n",
       "11078       HE Qualification   70-80%    35-55                     1   \n",
       "11088     Lower Than A Level   80-90%    35-55                     0   \n",
       "11132     Lower Than A Level    10-20    35-55                     0   \n",
       "11140  A Level or Equivalent   30-40%     0-35                     0   \n",
       "11198  A Level or Equivalent   40-50%     0-35                     0   \n",
       "11240     Lower Than A Level   40-50%     0-35                     0   \n",
       "11331       HE Qualification   70-80%    35-55                     0   \n",
       "11454     Lower Than A Level    0-10%     0-35                     0   \n",
       "11572  A Level or Equivalent    0-10%    35-55                     0   \n",
       "11636       HE Qualification   30-40%     0-35                     0   \n",
       "11640  A Level or Equivalent   30-40%     0-35                     0   \n",
       "11721     Lower Than A Level   60-70%     0-35                     0   \n",
       "11748  A Level or Equivalent   20-30%     0-35                     0   \n",
       "11766  A Level or Equivalent   70-80%    35-55                     0   \n",
       "...                      ...      ...      ...                   ...   \n",
       "21990       HE Qualification   30-40%     0-35                     0   \n",
       "25854  A Level or Equivalent    0-10%     0-35                     0   \n",
       "26444  A Level or Equivalent   80-90%    35-55                     0   \n",
       "27711     Lower Than A Level   30-40%     0-35                     1   \n",
       "27758     Lower Than A Level   70-80%     0-35                     0   \n",
       "27783     Lower Than A Level    0-10%     0-35                     0   \n",
       "27827  A Level or Equivalent   80-90%     0-35                     0   \n",
       "28197     Lower Than A Level    0-10%     0-35                     0   \n",
       "28343     Lower Than A Level    0-10%     0-35                     0   \n",
       "28501     Lower Than A Level   30-40%     0-35                     1   \n",
       "28516  A Level or Equivalent   20-30%     0-35                     1   \n",
       "28522     Lower Than A Level    10-20    35-55                     0   \n",
       "28547     Lower Than A Level  90-100%    35-55                     0   \n",
       "28557  A Level or Equivalent   40-50%     0-35                     1   \n",
       "28636  A Level or Equivalent   60-70%     0-35                     0   \n",
       "28777  A Level or Equivalent   20-30%     0-35                     0   \n",
       "28860     Lower Than A Level   30-40%     0-35                     0   \n",
       "28863     Lower Than A Level   30-40%     0-35                     0   \n",
       "29150     Lower Than A Level   60-70%     0-35                     0   \n",
       "29198  A Level or Equivalent  90-100%     0-35                     0   \n",
       "29219  A Level or Equivalent   20-30%     0-35                     0   \n",
       "29360  A Level or Equivalent   70-80%     0-35                     0   \n",
       "29667     Lower Than A Level   40-50%     0-35                     0   \n",
       "29739       HE Qualification   40-50%    35-55                     0   \n",
       "29753  A Level or Equivalent   20-30%     0-35                     0   \n",
       "29978     Lower Than A Level    10-20    35-55                     0   \n",
       "30032  A Level or Equivalent    10-20    35-55                     1   \n",
       "30562     Lower Than A Level   30-40%     0-35                     0   \n",
       "32149     Lower Than A Level    10-20    35-55                     0   \n",
       "32411     Lower Than A Level   60-70%    35-55                     0   \n",
       "\n",
       "       studied_credits disability final_result  date_registration  \\\n",
       "6315                60          N    Withdrawn              -17.0   \n",
       "6484                60          N    Withdrawn              -25.0   \n",
       "6601                60          N    Withdrawn              -24.0   \n",
       "7247                60          N    Withdrawn             -113.0   \n",
       "7410               120          N    Withdrawn             -162.0   \n",
       "7596                60          N    Withdrawn             -143.0   \n",
       "7777                60          N    Withdrawn              -15.0   \n",
       "7953               120          N    Withdrawn              -63.0   \n",
       "7957               120          N    Withdrawn              -24.0   \n",
       "7977               120          N    Withdrawn              -74.0   \n",
       "8126               120          N    Withdrawn              -51.0   \n",
       "8186                60          N    Withdrawn               17.0   \n",
       "8305               120          N    Withdrawn              -14.0   \n",
       "8452                60          N    Withdrawn              -21.0   \n",
       "10884              150          N    Withdrawn              -15.0   \n",
       "11038              180          N    Withdrawn              -46.0   \n",
       "11078               30          N    Withdrawn             -106.0   \n",
       "11088               60          N    Withdrawn              -30.0   \n",
       "11132               60          N    Withdrawn              -84.0   \n",
       "11140               30          N    Withdrawn              -29.0   \n",
       "11198               90          N    Withdrawn             -109.0   \n",
       "11240              300          Y    Withdrawn              -87.0   \n",
       "11331               90          N    Withdrawn              -31.0   \n",
       "11454               90          N    Withdrawn              -81.0   \n",
       "11572               90          N    Withdrawn              -84.0   \n",
       "11636              120          N    Withdrawn              -92.0   \n",
       "11640              120          N    Withdrawn             -135.0   \n",
       "11721              120          Y    Withdrawn             -155.0   \n",
       "11748               90          N    Withdrawn              -56.0   \n",
       "11766               60          N    Withdrawn             -108.0   \n",
       "...                ...        ...          ...                ...   \n",
       "21990               60          N    Withdrawn              -66.0   \n",
       "25854              120          N    Withdrawn              -29.0   \n",
       "26444               60          N    Withdrawn              -57.0   \n",
       "27711               90          Y    Withdrawn             -123.0   \n",
       "27758              240          N    Withdrawn              -75.0   \n",
       "27783              120          Y    Withdrawn              -29.0   \n",
       "27827              120          N    Withdrawn              -15.0   \n",
       "28197              120          Y    Withdrawn              -36.0   \n",
       "28343               90          N    Withdrawn              -31.0   \n",
       "28501               90          N    Withdrawn             -109.0   \n",
       "28516               60          N    Withdrawn              -28.0   \n",
       "28522              120          N    Withdrawn              -95.0   \n",
       "28547              120          N    Withdrawn              -28.0   \n",
       "28557               60          Y    Withdrawn             -134.0   \n",
       "28636               60          Y    Withdrawn              -37.0   \n",
       "28777              120          Y    Withdrawn             -135.0   \n",
       "28860               60          N    Withdrawn             -123.0   \n",
       "28863               60          N    Withdrawn             -154.0   \n",
       "29150               60          N    Withdrawn              -51.0   \n",
       "29198               90          N    Withdrawn             -112.0   \n",
       "29219               90          N    Withdrawn             -107.0   \n",
       "29360               60          N    Withdrawn              -71.0   \n",
       "29667               60          N    Withdrawn              -42.0   \n",
       "29739               60          N    Withdrawn              -22.0   \n",
       "29753              180          N    Withdrawn              -25.0   \n",
       "29978              180          N    Withdrawn              -38.0   \n",
       "30032               60          N    Withdrawn              -29.0   \n",
       "30562               30          N    Withdrawn              -16.0   \n",
       "32149               60          N    Withdrawn                2.0   \n",
       "32411               30          N    Withdrawn               -9.0   \n",
       "\n",
       "       date_unregistration  \n",
       "6315                   NaN  \n",
       "6484                   NaN  \n",
       "6601                   NaN  \n",
       "7247                   NaN  \n",
       "7410                   NaN  \n",
       "7596                   NaN  \n",
       "7777                   NaN  \n",
       "7953                   NaN  \n",
       "7957                   NaN  \n",
       "7977                   NaN  \n",
       "8126                   NaN  \n",
       "8186                   NaN  \n",
       "8305                   NaN  \n",
       "8452                   NaN  \n",
       "10884                  NaN  \n",
       "11038                  NaN  \n",
       "11078                  NaN  \n",
       "11088                  NaN  \n",
       "11132                  NaN  \n",
       "11140                  NaN  \n",
       "11198                  NaN  \n",
       "11240                  NaN  \n",
       "11331                  NaN  \n",
       "11454                  NaN  \n",
       "11572                  NaN  \n",
       "11636                  NaN  \n",
       "11640                  NaN  \n",
       "11721                  NaN  \n",
       "11748                  NaN  \n",
       "11766                  NaN  \n",
       "...                    ...  \n",
       "21990                  NaN  \n",
       "25854                  NaN  \n",
       "26444                  NaN  \n",
       "27711                  NaN  \n",
       "27758                  NaN  \n",
       "27783                  NaN  \n",
       "27827                  NaN  \n",
       "28197                  NaN  \n",
       "28343                  NaN  \n",
       "28501                  NaN  \n",
       "28516                  NaN  \n",
       "28522                  NaN  \n",
       "28547                  NaN  \n",
       "28557                  NaN  \n",
       "28636                  NaN  \n",
       "28777                  NaN  \n",
       "28860                  NaN  \n",
       "28863                  NaN  \n",
       "29150                  NaN  \n",
       "29198                  NaN  \n",
       "29219                  NaN  \n",
       "29360                  NaN  \n",
       "29667                  NaN  \n",
       "29739                  NaN  \n",
       "29753                  NaN  \n",
       "29978                  NaN  \n",
       "30032                  NaN  \n",
       "30562                  NaN  \n",
       "32149                  NaN  \n",
       "32411                  NaN  \n",
       "\n",
       "[93 rows x 14 columns]"
      ]
     },
     "execution_count": 125,
     "metadata": {},
     "output_type": "execute_result"
    }
   ],
   "source": [
    "noise1 = df_mergedInfoReg[df_mergedInfoReg['date_unregistration'].notnull()&(df_mergedInfoReg['final_result']!='Withdrawn')]\n",
    "noise2 = df_mergedInfoReg[(df_mergedInfoReg['date_unregistration'].isnull())&(df_mergedInfoReg['final_result']=='Withdrawn')]\n",
    "noise2"
   ]
  },
  {
   "cell_type": "code",
   "execution_count": 126,
   "metadata": {
    "collapsed": false
   },
   "outputs": [],
   "source": [
    "df_mergedInfoReg = df_mergedInfoReg.drop(noise1.index)\n",
    "df_mergedInfoReg = df_mergedInfoReg.drop(noise2.index)"
   ]
  },
  {
   "cell_type": "code",
   "execution_count": 127,
   "metadata": {
    "collapsed": false,
    "nbpresent": {
     "id": "b4b5ee02-d99d-4b12-8d93-bf1752329ea6"
    }
   },
   "outputs": [
    {
     "data": {
      "text/html": [
       "<div>\n",
       "<table border=\"1\" class=\"dataframe\">\n",
       "  <thead>\n",
       "    <tr style=\"text-align: right;\">\n",
       "      <th></th>\n",
       "      <th>code_module</th>\n",
       "      <th>code_presentation</th>\n",
       "      <th>id_student</th>\n",
       "      <th>gender</th>\n",
       "      <th>region</th>\n",
       "      <th>highest_education</th>\n",
       "      <th>imd_band</th>\n",
       "      <th>age_band</th>\n",
       "      <th>num_of_prev_attempts</th>\n",
       "      <th>studied_credits</th>\n",
       "      <th>disability</th>\n",
       "      <th>final_result</th>\n",
       "      <th>date_registration</th>\n",
       "      <th>date_unregistration</th>\n",
       "      <th>completion</th>\n",
       "    </tr>\n",
       "  </thead>\n",
       "  <tbody>\n",
       "    <tr>\n",
       "      <th>0</th>\n",
       "      <td>AAA</td>\n",
       "      <td>2013J</td>\n",
       "      <td>11391</td>\n",
       "      <td>M</td>\n",
       "      <td>East Anglian Region</td>\n",
       "      <td>HE Qualification</td>\n",
       "      <td>90-100%</td>\n",
       "      <td>55&lt;=</td>\n",
       "      <td>0</td>\n",
       "      <td>240</td>\n",
       "      <td>N</td>\n",
       "      <td>Pass</td>\n",
       "      <td>-159.0</td>\n",
       "      <td>NaN</td>\n",
       "      <td>True</td>\n",
       "    </tr>\n",
       "    <tr>\n",
       "      <th>1</th>\n",
       "      <td>AAA</td>\n",
       "      <td>2013J</td>\n",
       "      <td>28400</td>\n",
       "      <td>F</td>\n",
       "      <td>Scotland</td>\n",
       "      <td>HE Qualification</td>\n",
       "      <td>20-30%</td>\n",
       "      <td>35-55</td>\n",
       "      <td>0</td>\n",
       "      <td>60</td>\n",
       "      <td>N</td>\n",
       "      <td>Pass</td>\n",
       "      <td>-53.0</td>\n",
       "      <td>NaN</td>\n",
       "      <td>True</td>\n",
       "    </tr>\n",
       "    <tr>\n",
       "      <th>2</th>\n",
       "      <td>AAA</td>\n",
       "      <td>2013J</td>\n",
       "      <td>30268</td>\n",
       "      <td>F</td>\n",
       "      <td>North Western Region</td>\n",
       "      <td>A Level or Equivalent</td>\n",
       "      <td>30-40%</td>\n",
       "      <td>35-55</td>\n",
       "      <td>0</td>\n",
       "      <td>60</td>\n",
       "      <td>Y</td>\n",
       "      <td>Withdrawn</td>\n",
       "      <td>-92.0</td>\n",
       "      <td>12.0</td>\n",
       "      <td>False</td>\n",
       "    </tr>\n",
       "    <tr>\n",
       "      <th>3</th>\n",
       "      <td>AAA</td>\n",
       "      <td>2013J</td>\n",
       "      <td>31604</td>\n",
       "      <td>F</td>\n",
       "      <td>South East Region</td>\n",
       "      <td>A Level or Equivalent</td>\n",
       "      <td>50-60%</td>\n",
       "      <td>35-55</td>\n",
       "      <td>0</td>\n",
       "      <td>60</td>\n",
       "      <td>N</td>\n",
       "      <td>Pass</td>\n",
       "      <td>-52.0</td>\n",
       "      <td>NaN</td>\n",
       "      <td>True</td>\n",
       "    </tr>\n",
       "    <tr>\n",
       "      <th>4</th>\n",
       "      <td>AAA</td>\n",
       "      <td>2013J</td>\n",
       "      <td>32885</td>\n",
       "      <td>F</td>\n",
       "      <td>West Midlands Region</td>\n",
       "      <td>Lower Than A Level</td>\n",
       "      <td>50-60%</td>\n",
       "      <td>0-35</td>\n",
       "      <td>0</td>\n",
       "      <td>60</td>\n",
       "      <td>N</td>\n",
       "      <td>Pass</td>\n",
       "      <td>-176.0</td>\n",
       "      <td>NaN</td>\n",
       "      <td>True</td>\n",
       "    </tr>\n",
       "  </tbody>\n",
       "</table>\n",
       "</div>"
      ],
      "text/plain": [
       "  code_module code_presentation  id_student gender                region  \\\n",
       "0         AAA             2013J       11391      M   East Anglian Region   \n",
       "1         AAA             2013J       28400      F              Scotland   \n",
       "2         AAA             2013J       30268      F  North Western Region   \n",
       "3         AAA             2013J       31604      F     South East Region   \n",
       "4         AAA             2013J       32885      F  West Midlands Region   \n",
       "\n",
       "       highest_education imd_band age_band  num_of_prev_attempts  \\\n",
       "0       HE Qualification  90-100%     55<=                     0   \n",
       "1       HE Qualification   20-30%    35-55                     0   \n",
       "2  A Level or Equivalent   30-40%    35-55                     0   \n",
       "3  A Level or Equivalent   50-60%    35-55                     0   \n",
       "4     Lower Than A Level   50-60%     0-35                     0   \n",
       "\n",
       "   studied_credits disability final_result  date_registration  \\\n",
       "0              240          N         Pass             -159.0   \n",
       "1               60          N         Pass              -53.0   \n",
       "2               60          Y    Withdrawn              -92.0   \n",
       "3               60          N         Pass              -52.0   \n",
       "4               60          N         Pass             -176.0   \n",
       "\n",
       "   date_unregistration completion  \n",
       "0                  NaN       True  \n",
       "1                  NaN       True  \n",
       "2                 12.0      False  \n",
       "3                  NaN       True  \n",
       "4                  NaN       True  "
      ]
     },
     "execution_count": 127,
     "metadata": {},
     "output_type": "execute_result"
    }
   ],
   "source": [
    "df_mergedInfoReg['completion'] = np.isnan(df_mergedInfoReg['date_unregistration'])\n",
    "df_mergedInfoReg.head()"
   ]
  },
  {
   "cell_type": "markdown",
   "metadata": {
    "nbpresent": {
     "id": "2dca6a99-69c0-495a-8356-de957b4fb454"
    }
   },
   "source": [
    "<h3>5. Select one particular code_module and code_presentation</h3>\n"
   ]
  },
  {
   "cell_type": "code",
   "execution_count": 128,
   "metadata": {
    "collapsed": false,
    "nbpresent": {
     "id": "7c09f537-6103-4e20-b937-180b314a3420"
    }
   },
   "outputs": [
    {
     "data": {
      "text/plain": [
       "<matplotlib.axes._subplots.AxesSubplot at 0x1f0e3ac8>"
      ]
     },
     "execution_count": 128,
     "metadata": {},
     "output_type": "execute_result"
    },
    {
     "data": {
      "image/png": "[encoded data removed]",
      "text/plain": [
       "<matplotlib.figure.Figure at 0x1fd481d0>"
      ]
     },
     "metadata": {},
     "output_type": "display_data"
    }
   ],
   "source": [
    "%matplotlib inline\n",
    "fig, axs = plt.subplots(2,2, figsize=[20,20])\n",
    "mergedCount['id_student'].size().plot.barh(title='# of students registered for each module', grid=True,color=\"green\",ax=axs[0,0])\n",
    "df_mergedStuAss.groupby(['code_module','code_presentation'] ).id_assessment.nunique().plot.barh(title='# of assessments for each module',  grid=True,color=\"green\",ax=axs[0,1])\n",
    "df_mergedInfoRegVle.groupby(['code_module','code_presentation'] )['sum_click'].mean().plot.barh(title='average # of clicks for each module presentation', grid=True,color=\"green\",ax=axs[1,0])\n",
    "\n",
    "Module = 'FFF'\n",
    "presentation = '2013J'\n",
    "\n",
    "AGp=df_mergedInfoReg.groupby(['code_module']).get_group(Module)\n",
    "AGp_all = AGp.groupby(['code_presentation'])\n",
    "AGp_all.get_group(presentation).groupby('completion').size().plot.pie(title=\"Module \"+Module+\"-\"+presentation,ax=axs[1,1],autopct='%1.1f%%',\n",
    "        shadow=True,fontsize=15)"
   ]
  },
  {
   "cell_type": "code",
   "execution_count": 129,
   "metadata": {
    "collapsed": false,
    "nbpresent": {
     "id": "c40ce478-a3c8-4c6a-bb12-8e2d7d225c7b"
    }
   },
   "outputs": [
    {
     "data": {
      "text/html": [
       "<div>\n",
       "<table border=\"1\" class=\"dataframe\">\n",
       "  <thead>\n",
       "    <tr style=\"text-align: right;\">\n",
       "      <th></th>\n",
       "      <th>code_module</th>\n",
       "      <th>code_presentation</th>\n",
       "      <th>id_student</th>\n",
       "      <th>gender</th>\n",
       "      <th>region</th>\n",
       "      <th>highest_education</th>\n",
       "      <th>imd_band</th>\n",
       "      <th>age_band</th>\n",
       "      <th>num_of_prev_attempts</th>\n",
       "      <th>studied_credits</th>\n",
       "      <th>disability</th>\n",
       "      <th>final_result</th>\n",
       "      <th>date_registration</th>\n",
       "      <th>date_unregistration</th>\n",
       "      <th>completion</th>\n",
       "    </tr>\n",
       "  </thead>\n",
       "  <tbody>\n",
       "    <tr>\n",
       "      <th>23911</th>\n",
       "      <td>FFF</td>\n",
       "      <td>2013J</td>\n",
       "      <td>26247</td>\n",
       "      <td>M</td>\n",
       "      <td>South East Region</td>\n",
       "      <td>HE Qualification</td>\n",
       "      <td>80-90%</td>\n",
       "      <td>35-55</td>\n",
       "      <td>2</td>\n",
       "      <td>60</td>\n",
       "      <td>N</td>\n",
       "      <td>Fail</td>\n",
       "      <td>-47.0</td>\n",
       "      <td>NaN</td>\n",
       "      <td>True</td>\n",
       "    </tr>\n",
       "    <tr>\n",
       "      <th>23912</th>\n",
       "      <td>FFF</td>\n",
       "      <td>2013J</td>\n",
       "      <td>29335</td>\n",
       "      <td>M</td>\n",
       "      <td>West Midlands Region</td>\n",
       "      <td>Lower Than A Level</td>\n",
       "      <td>40-50%</td>\n",
       "      <td>0-35</td>\n",
       "      <td>0</td>\n",
       "      <td>60</td>\n",
       "      <td>N</td>\n",
       "      <td>Distinction</td>\n",
       "      <td>-31.0</td>\n",
       "      <td>NaN</td>\n",
       "      <td>True</td>\n",
       "    </tr>\n",
       "    <tr>\n",
       "      <th>23913</th>\n",
       "      <td>FFF</td>\n",
       "      <td>2013J</td>\n",
       "      <td>29769</td>\n",
       "      <td>M</td>\n",
       "      <td>East Midlands Region</td>\n",
       "      <td>A Level or Equivalent</td>\n",
       "      <td>40-50%</td>\n",
       "      <td>0-35</td>\n",
       "      <td>1</td>\n",
       "      <td>60</td>\n",
       "      <td>N</td>\n",
       "      <td>Fail</td>\n",
       "      <td>-32.0</td>\n",
       "      <td>NaN</td>\n",
       "      <td>True</td>\n",
       "    </tr>\n",
       "    <tr>\n",
       "      <th>23914</th>\n",
       "      <td>FFF</td>\n",
       "      <td>2013J</td>\n",
       "      <td>32221</td>\n",
       "      <td>M</td>\n",
       "      <td>South Region</td>\n",
       "      <td>A Level or Equivalent</td>\n",
       "      <td>60-70%</td>\n",
       "      <td>0-35</td>\n",
       "      <td>0</td>\n",
       "      <td>60</td>\n",
       "      <td>N</td>\n",
       "      <td>Fail</td>\n",
       "      <td>-32.0</td>\n",
       "      <td>NaN</td>\n",
       "      <td>True</td>\n",
       "    </tr>\n",
       "    <tr>\n",
       "      <th>23915</th>\n",
       "      <td>FFF</td>\n",
       "      <td>2013J</td>\n",
       "      <td>33600</td>\n",
       "      <td>F</td>\n",
       "      <td>London Region</td>\n",
       "      <td>A Level or Equivalent</td>\n",
       "      <td>40-50%</td>\n",
       "      <td>35-55</td>\n",
       "      <td>0</td>\n",
       "      <td>150</td>\n",
       "      <td>N</td>\n",
       "      <td>Withdrawn</td>\n",
       "      <td>-43.0</td>\n",
       "      <td>32.0</td>\n",
       "      <td>False</td>\n",
       "    </tr>\n",
       "  </tbody>\n",
       "</table>\n",
       "</div>"
      ],
      "text/plain": [
       "      code_module code_presentation  id_student gender                region  \\\n",
       "23911         FFF             2013J       26247      M     South East Region   \n",
       "23912         FFF             2013J       29335      M  West Midlands Region   \n",
       "23913         FFF             2013J       29769      M  East Midlands Region   \n",
       "23914         FFF             2013J       32221      M          South Region   \n",
       "23915         FFF             2013J       33600      F         London Region   \n",
       "\n",
       "           highest_education imd_band age_band  num_of_prev_attempts  \\\n",
       "23911       HE Qualification   80-90%    35-55                     2   \n",
       "23912     Lower Than A Level   40-50%     0-35                     0   \n",
       "23913  A Level or Equivalent   40-50%     0-35                     1   \n",
       "23914  A Level or Equivalent   60-70%     0-35                     0   \n",
       "23915  A Level or Equivalent   40-50%    35-55                     0   \n",
       "\n",
       "       studied_credits disability final_result  date_registration  \\\n",
       "23911               60          N         Fail              -47.0   \n",
       "23912               60          N  Distinction              -31.0   \n",
       "23913               60          N         Fail              -32.0   \n",
       "23914               60          N         Fail              -32.0   \n",
       "23915              150          N    Withdrawn              -43.0   \n",
       "\n",
       "       date_unregistration completion  \n",
       "23911                  NaN       True  \n",
       "23912                  NaN       True  \n",
       "23913                  NaN       True  \n",
       "23914                  NaN       True  \n",
       "23915                 32.0      False  "
      ]
     },
     "execution_count": 129,
     "metadata": {},
     "output_type": "execute_result"
    }
   ],
   "source": [
    "AGp_pr = AGp_all.get_group(presentation)\n",
    "AGp_pr.head()"
   ]
  },
  {
   "cell_type": "code",
   "execution_count": 130,
   "metadata": {
    "collapsed": false,
    "nbpresent": {
     "id": "b640135d-d208-40ab-a72a-a49c8cfe9c47"
    }
   },
   "outputs": [],
   "source": [
    "# #saving to file\n",
    "# AGp_prReplace = AGp_pr.fillna(500)\n",
    "# AGp_prReplace.to_csv('Module_presentation_removeNoise.csv')"
   ]
  },
  {
   "cell_type": "markdown",
   "metadata": {
    "nbpresent": {
     "id": "eae76c38-6f23-4e3d-93ae-a2d0575e5d37"
    }
   },
   "source": [
    "<h3>6. Visualising variable association -- mosaic plot </h3>"
   ]
  },
  {
   "cell_type": "code",
   "execution_count": 131,
   "metadata": {
    "collapsed": false,
    "nbpresent": {
     "id": "995daa3a-8899-4e7b-9462-16e6cbc2a41a"
    }
   },
   "outputs": [
    {
     "data": {
      "image/png": "[encoded data removed]",
      "text/plain": [
       "<matplotlib.figure.Figure at 0x1fad9ef0>"
      ]
     },
     "metadata": {},
     "output_type": "display_data"
    }
   ],
   "source": [
    "%matplotlib inline\n",
    "from statsmodels.graphics.mosaicplot import mosaic\n",
    "fig, axs = plt.subplots(4,2, figsize=[16,32])\n",
    "[f,d]=mosaic(AGp_pr, ['completion','disability'],statistic=False, gap=0.02, title=\"disability vs completion\",ax=axs[0,0])\n",
    "[f,d]=mosaic(AGp_pr, ['completion','gender'],statistic=False, gap=0.02, title=\"gender vs completion\" ,ax=axs[0,1])\n",
    "[f,d]=mosaic(AGp_pr, ['completion','age_band'],statistic=False, gap=0.02, title=\"age vs completion\",ax=axs[1,0])\n",
    "[f,d]=mosaic(AGp_pr, ['completion','imd_band'],statistic=False, gap=0.02, title=\"imd_band vs completion\",ax=axs[1,1])\n",
    "[f,d]=mosaic(AGp_pr, ['completion','final_result'],statistic=False, gap=0.02, title=\"final_result vs completion\",ax=axs[2,1])\n",
    "[f,d]=mosaic(AGp_pr, ['completion','region'],statistic=False, gap=0.02, title=\"region vs completion\",ax=axs[2,0])\n",
    "[f,d]=mosaic(AGp_pr, ['completion','highest_education'],statistic=False, gap=0.02, title=\"highest_education vs completion\",ax=axs[3,0])\n",
    "[f,d]=mosaic(AGp_pr, ['completion','num_of_prev_attempts'],statistic=False, gap=0.02, title=\"previous attempts vs completion\",ax=axs[3,1])"
   ]
  },
  {
   "cell_type": "markdown",
   "metadata": {
    "nbpresent": {
     "id": "096e8df7-5670-47ef-be2b-d24843fd3a8b"
    }
   },
   "source": [
    "<h3>7. Calculating categorical variable pair-wise correlation </h3>"
   ]
  },
  {
   "cell_type": "code",
   "execution_count": 132,
   "metadata": {
    "collapsed": false,
    "nbpresent": {
     "id": "1932e4a1-3f2a-4bbe-853c-7b04f8f7f95b"
    }
   },
   "outputs": [
    {
     "name": "stdout",
     "output_type": "stream",
     "text": [
      "{'imd_band': 0.036970233143121034, 'final_result': -0.77255156878819986, 'highest_education': -0.075441042221248616, 'age_band': -0.005922604977094066, 'gender': 0.027417926020565194, 'region': -0.0057815095828073464, 'disability': -0.074506369114069687, 'previous_attempts': -0.039861947046411855}\n"
     ]
    },
    {
     "data": {
      "image/png": "[encoded data removed]",
      "text/plain": [
       "<matplotlib.figure.Figure at 0x20305748>"
      ]
     },
     "metadata": {},
     "output_type": "display_data"
    }
   ],
   "source": [
    "from sklearn.preprocessing import LabelEncoder\n",
    "lb_make = LabelEncoder()\n",
    "SelectedDF = AGp_pr[['completion','num_of_prev_attempts','gender','highest_education','age_band','disability','final_result','imd_band','region']]\n",
    "SelectedDF_code = pd.DataFrame(data=SelectedDF)\n",
    "SelectedDF_code[\"gender\"] = lb_make.fit_transform(SelectedDF[\"gender\"])\n",
    "SelectedDF_code[\"highest_education\"] = lb_make.fit_transform(SelectedDF[\"highest_education\"])\n",
    "SelectedDF_code[\"age_band\"] = lb_make.fit_transform(SelectedDF[\"age_band\"])\n",
    "SelectedDF_code[\"disability\"] = lb_make.fit_transform(SelectedDF[\"disability\"])\n",
    "SelectedDF_code[\"final_result\"] = lb_make.fit_transform(SelectedDF[\"final_result\"])\n",
    "SelectedDF_code[\"imd_band\"] = lb_make.fit_transform(SelectedDF[\"imd_band\"])\n",
    "SelectedDF_code[\"region\"] = lb_make.fit_transform(SelectedDF[\"region\"])\n",
    "SelectedDF_code[\"completion\"] = lb_make.fit_transform(SelectedDF[\"completion\"])\n",
    "SelectedDF_code[\"index\"] = SelectedDF_code.index\n",
    "correlation = dict()\n",
    "correlation[\"disability\"] = SelectedDF_code[\"disability\"].corr(SelectedDF_code[\"completion\"],method=\"pearson\")\n",
    "correlation['gender'] = SelectedDF_code[\"gender\"].corr(SelectedDF_code[\"completion\"],method=\"pearson\")\n",
    "correlation['age_band'] = SelectedDF_code[\"age_band\"].corr(SelectedDF_code[\"completion\"],method=\"pearson\")\n",
    "correlation['imd_band']= SelectedDF_code[\"imd_band\"].corr(SelectedDF_code[\"completion\"],method=\"pearson\")\n",
    "correlation['final_result']= SelectedDF_code[\"final_result\"].corr(SelectedDF_code[\"completion\"],method=\"pearson\")\n",
    "correlation['region']= SelectedDF_code[\"region\"].corr(SelectedDF_code[\"completion\"],method=\"pearson\")\n",
    "correlation['highest_education']= SelectedDF_code[\"highest_education\"].corr(SelectedDF_code[\"completion\"],method=\"pearson\")\n",
    "correlation['previous_attempts']= SelectedDF_code[\"num_of_prev_attempts\"].corr(SelectedDF_code[\"completion\"],method=\"pearson\")\n",
    "print(correlation)\n",
    "fig = plt.figure(figsize=[20,8])\n",
    "plt.bar(range(len(correlation)), correlation.values(), align='center')\n",
    "a=plt.xticks(range(len(correlation)), correlation.keys())\n",
    "plt.grid()"
   ]
  },
  {
   "cell_type": "code",
   "execution_count": 133,
   "metadata": {
    "collapsed": false
   },
   "outputs": [
    {
     "data": {
      "text/plain": [
       "<matplotlib.axes._subplots.AxesSubplot at 0x1ed967b8>"
      ]
     },
     "execution_count": 133,
     "metadata": {},
     "output_type": "execute_result"
    },
    {
     "data": {
      "image/png": "[encoded data removed]",
      "text/plain": [
       "<matplotlib.figure.Figure at 0x1ec83630>"
      ]
     },
     "metadata": {},
     "output_type": "display_data"
    }
   ],
   "source": [
    "%matplotlib inline\n",
    "AGp_prReplace = AGp_pr.fillna(500)\n",
    "AGp_prReplace.plot(kind=\"scatter\",x=\"date_unregistration\", y=\"date_registration\",figsize=[15,8],grid=True,title=\"Relationship between date_unregistration and date_registration\")"
   ]
  }
 ],
 "metadata": {
  "anaconda-cloud": {
   "attach-environment": false,
   "summary": "Visualising variables and their association to module completion"
  },
  "kernelspec": {
   "display_name": "Python [conda env:python27]",
   "language": "python",
   "name": "conda-env-python27-py"
  },
  "language_info": {
   "codemirror_mode": {
    "name": "ipython",
    "version": 2
   },
   "file_extension": ".py",
   "mimetype": "text/x-python",
   "name": "python",
   "nbconvert_exporter": "python",
   "pygments_lexer": "ipython2",
   "version": "2.7.13"
  },
  "nbpresent": {
   "slides": {
    "060c6566-f8e1-4a7e-bd8b-887b656f7335": {
     "id": "060c6566-f8e1-4a7e-bd8b-887b656f7335",
     "prev": "3f421a22-f09c-4618-9834-64dfdac216e9",
     "regions": {
      "537d6089-68c5-4f92-963a-13820d1f841f": {
       "attrs": {
        "height": 0.8,
        "width": 0.8,
        "x": 0.1,
        "y": 0.1
       },
       "content": {
        "cell": "0876bacd-136c-4c36-98d3-68a216bbcabe",
        "part": "whole"
       },
       "id": "537d6089-68c5-4f92-963a-13820d1f841f"
      }
     }
    },
    "0a1a2e03-0365-4cc5-9016-c84cda5c1f27": {
     "id": "0a1a2e03-0365-4cc5-9016-c84cda5c1f27",
     "prev": "5a1ccffa-a404-4c8c-a788-5b40ffb31a96",
     "regions": {
      "7268050a-4d50-42d5-a015-7d5724c38bc1": {
       "attrs": {
        "height": 0.8,
        "width": 0.8,
        "x": 0.1,
        "y": 0.1
       },
       "content": {
        "cell": "94fd1e59-763b-4b50-995a-c3ec59dcaa37",
        "part": "whole"
       },
       "id": "7268050a-4d50-42d5-a015-7d5724c38bc1"
      }
     }
    },
    "0cb4c593-ca09-4d45-bcc4-96d06948ac70": {
     "id": "0cb4c593-ca09-4d45-bcc4-96d06948ac70",
     "prev": "fa5a1c69-1620-4e62-aa35-df37d37f7840",
     "regions": {
      "b42fad7f-7a96-4cb7-b4d7-f16fc03ad607": {
       "attrs": {
        "height": 0.8,
        "width": 0.8,
        "x": 0.1,
        "y": 0.1
       },
       "content": {
        "cell": "35dbc1cc-145f-4d77-838a-cd08e96c6fa4",
        "part": "whole"
       },
       "id": "b42fad7f-7a96-4cb7-b4d7-f16fc03ad607"
      }
     }
    },
    "2a6592f8-7bbc-40d6-95fc-0255c156011d": {
     "id": "2a6592f8-7bbc-40d6-95fc-0255c156011d",
     "prev": "76f8cc21-affe-4249-84ff-e53114061da0",
     "regions": {
      "f24fb4ac-5400-4039-a076-cf98c849eb56": {
       "attrs": {
        "height": 0.8,
        "width": 0.8,
        "x": 0.1,
        "y": 0.1
       },
       "content": {
        "cell": "95f95256-975b-4479-8626-52f86f5b33e1",
        "part": "whole"
       },
       "id": "f24fb4ac-5400-4039-a076-cf98c849eb56"
      }
     }
    },
    "2ebbba77-7e04-4ad7-993d-18a0bcab54fa": {
     "id": "2ebbba77-7e04-4ad7-993d-18a0bcab54fa",
     "prev": "7bae3d14-ddcc-4940-9c30-49339b076410",
     "regions": {
      "1c99bad1-1297-4d0b-9413-58806b24bcaa": {
       "attrs": {
        "height": 0.8,
        "width": 0.8,
        "x": 0.1,
        "y": 0.1
       },
       "content": {
        "cell": "2e49610c-b0cb-4b17-95d1-1ffee6429cbc",
        "part": "whole"
       },
       "id": "1c99bad1-1297-4d0b-9413-58806b24bcaa"
      }
     }
    },
    "3091307c-9a63-47a9-bfcd-99e8bfd8b2bf": {
     "id": "3091307c-9a63-47a9-bfcd-99e8bfd8b2bf",
     "prev": "5cce53a7-843b-404d-96cd-4c5eaaf40083",
     "regions": {
      "9ddff58a-988b-4830-8313-e0f3d60a9291": {
       "attrs": {
        "height": 0.8,
        "width": 0.8,
        "x": 0.1,
        "y": 0.1
       },
       "content": {
        "cell": "9a974d56-a0cc-4bfd-bb59-027da0ca6429",
        "part": "whole"
       },
       "id": "9ddff58a-988b-4830-8313-e0f3d60a9291"
      }
     }
    },
    "3b4e49fe-236e-4f0c-8f54-242df020107f": {
     "id": "3b4e49fe-236e-4f0c-8f54-242df020107f",
     "prev": "0a1a2e03-0365-4cc5-9016-c84cda5c1f27",
     "regions": {
      "c3165c00-e7fd-4d56-beba-b40aa6074156": {
       "attrs": {
        "height": 0.8,
        "width": 0.8,
        "x": 0.1,
        "y": 0.1
       },
       "content": {
        "cell": "6914a02e-a125-454a-af8a-cb458527304a",
        "part": "whole"
       },
       "id": "c3165c00-e7fd-4d56-beba-b40aa6074156"
      }
     }
    },
    "3c37ff9b-4f98-45f9-9aa3-11743a87fcf2": {
     "id": "3c37ff9b-4f98-45f9-9aa3-11743a87fcf2",
     "prev": "b712b6bc-28a7-458b-8eef-ec825c3b10fc",
     "regions": {
      "edd4c0f4-c0c1-4385-a4a0-b800d5d51433": {
       "attrs": {
        "height": 0.8,
        "width": 0.8,
        "x": 0.1,
        "y": 0.1
       },
       "content": {
        "cell": "40235511-7ad4-4cb5-b2e8-9f6fc353ada5",
        "part": "whole"
       },
       "id": "edd4c0f4-c0c1-4385-a4a0-b800d5d51433"
      }
     }
    },
    "3cc9a956-edb8-4bef-8d31-bc399eab2ef9": {
     "id": "3cc9a956-edb8-4bef-8d31-bc399eab2ef9",
     "prev": "589a7e37-e12d-4ddc-b953-f998e3a68d14",
     "regions": {
      "216e1ca8-4b5a-4020-a4e7-5e3539e93e0b": {
       "attrs": {
        "height": 0.8,
        "width": 0.8,
        "x": 0.1,
        "y": 0.1
       },
       "content": {
        "cell": "82a8d372-30d4-459a-aebd-384366df3dcd",
        "part": "whole"
       },
       "id": "216e1ca8-4b5a-4020-a4e7-5e3539e93e0b"
      }
     }
    },
    "3f421a22-f09c-4618-9834-64dfdac216e9": {
     "id": "3f421a22-f09c-4618-9834-64dfdac216e9",
     "prev": "f0242165-6a3c-4daa-afa3-aa41d22d22d3",
     "regions": {
      "cf1e863b-b8cb-44d1-b41d-09d93f73022d": {
       "attrs": {
        "height": 0.8,
        "width": 0.8,
        "x": 0.1,
        "y": 0.1
       },
       "content": {
        "cell": "c6d12cbd-0fa0-4689-bec1-0f06eff92d1d",
        "part": "whole"
       },
       "id": "cf1e863b-b8cb-44d1-b41d-09d93f73022d"
      }
     }
    },
    "4831ff86-858f-48a0-b5b9-6b99eae4c977": {
     "id": "4831ff86-858f-48a0-b5b9-6b99eae4c977",
     "prev": "955068ad-5094-4fdd-9362-96f4e5cc2f6a",
     "regions": {
      "8e0ba539-fc91-4d50-a926-108d0752b0ce": {
       "attrs": {
        "height": 0.8,
        "width": 0.8,
        "x": 0.1,
        "y": 0.1
       },
       "content": {
        "cell": "096e8df7-5670-47ef-be2b-d24843fd3a8b",
        "part": "whole"
       },
       "id": "8e0ba539-fc91-4d50-a926-108d0752b0ce"
      }
     }
    },
    "52b198ad-a652-4c78-b684-af2c5c265186": {
     "id": "52b198ad-a652-4c78-b684-af2c5c265186",
     "prev": "3b4e49fe-236e-4f0c-8f54-242df020107f",
     "regions": {
      "185b3654-754e-4f0d-9301-8b2923b664b3": {
       "attrs": {
        "height": 0.8,
        "width": 0.8,
        "x": 0.1,
        "y": 0.1
       },
       "content": {
        "cell": "00a8f353-feb0-4674-a523-9b57e88d6fa9",
        "part": "whole"
       },
       "id": "185b3654-754e-4f0d-9301-8b2923b664b3"
      }
     }
    },
    "56d2a582-bd25-480e-9a76-34723854235f": {
     "id": "56d2a582-bd25-480e-9a76-34723854235f",
     "prev": "52b198ad-a652-4c78-b684-af2c5c265186",
     "regions": {
      "bc9ae1c9-45b3-4d79-9e25-af4796d6e5fc": {
       "attrs": {
        "height": 0.8,
        "width": 0.8,
        "x": 0.1,
        "y": 0.1
       },
       "content": {
        "cell": "b9de9401-84cc-4839-a8fe-a119c5995158",
        "part": "whole"
       },
       "id": "bc9ae1c9-45b3-4d79-9e25-af4796d6e5fc"
      }
     }
    },
    "589a7e37-e12d-4ddc-b953-f998e3a68d14": {
     "id": "589a7e37-e12d-4ddc-b953-f998e3a68d14",
     "prev": "4831ff86-858f-48a0-b5b9-6b99eae4c977",
     "regions": {
      "9572c18a-eb19-47c1-926b-78302bca4742": {
       "attrs": {
        "height": 0.8,
        "width": 0.8,
        "x": 0.1,
        "y": 0.1
       },
       "content": {
        "cell": "1932e4a1-3f2a-4bbe-853c-7b04f8f7f95b",
        "part": "whole"
       },
       "id": "9572c18a-eb19-47c1-926b-78302bca4742"
      }
     }
    },
    "5a1ccffa-a404-4c8c-a788-5b40ffb31a96": {
     "id": "5a1ccffa-a404-4c8c-a788-5b40ffb31a96",
     "prev": "2a6592f8-7bbc-40d6-95fc-0255c156011d",
     "regions": {
      "0d21a680-f025-4b1c-a489-a6bc337b16be": {
       "attrs": {
        "height": 0.8,
        "width": 0.8,
        "x": 0.1,
        "y": 0.1
       },
       "content": {
        "cell": "0380f597-8bde-4427-a480-a974888478c0",
        "part": "whole"
       },
       "id": "0d21a680-f025-4b1c-a489-a6bc337b16be"
      }
     }
    },
    "5cce53a7-843b-404d-96cd-4c5eaaf40083": {
     "id": "5cce53a7-843b-404d-96cd-4c5eaaf40083",
     "prev": "d283854d-fe50-473e-bba3-def66f1d0c97",
     "regions": {
      "bd708a31-386c-4813-a3e0-75566decf0a1": {
       "attrs": {
        "height": 0.8,
        "width": 0.8,
        "x": 0.1,
        "y": 0.1
       },
       "content": {
        "cell": "f97b0fed-06c5-4608-bbef-86c6b77bed24",
        "part": "whole"
       },
       "id": "bd708a31-386c-4813-a3e0-75566decf0a1"
      }
     }
    },
    "6200b50f-643d-4d08-92ce-64d0231c58e4": {
     "id": "6200b50f-643d-4d08-92ce-64d0231c58e4",
     "prev": "b43cc065-1476-42bb-942a-b3b76dc25c70",
     "regions": {
      "a1308153-18e1-4952-9920-3ff6fa2af684": {
       "attrs": {
        "height": 0.8,
        "width": 0.8,
        "x": 0.1,
        "y": 0.1
       },
       "content": {
        "cell": "7aec4811-b2f7-4b0b-8e77-9285169574bc",
        "part": "whole"
       },
       "id": "a1308153-18e1-4952-9920-3ff6fa2af684"
      }
     }
    },
    "698e6a5f-cb76-4b35-ae03-14ec241d038a": {
     "id": "698e6a5f-cb76-4b35-ae03-14ec241d038a",
     "prev": "e273609b-757c-48bc-a24b-ab0959d40610",
     "regions": {
      "9838b104-a05b-4c43-8412-0229c0565fdd": {
       "attrs": {
        "height": 0.8,
        "width": 0.8,
        "x": 0.1,
        "y": 0.1
       },
       "content": {
        "cell": "df23f4a4-2853-4073-9fc4-8eca2851b79a",
        "part": "whole"
       },
       "id": "9838b104-a05b-4c43-8412-0229c0565fdd"
      }
     }
    },
    "76f8cc21-affe-4249-84ff-e53114061da0": {
     "id": "76f8cc21-affe-4249-84ff-e53114061da0",
     "prev": null,
     "regions": {
      "cbcd1595-0c9d-4f9b-a4bc-f64287d3ec99": {
       "attrs": {
        "height": 0.8,
        "width": 0.8,
        "x": 0.1,
        "y": 0.1
       },
       "content": {
        "cell": "c7d7b0e5-aa5b-48ee-866f-8ea1d7eac0a6",
        "part": "whole"
       },
       "id": "cbcd1595-0c9d-4f9b-a4bc-f64287d3ec99"
      }
     }
    },
    "7bae3d14-ddcc-4940-9c30-49339b076410": {
     "id": "7bae3d14-ddcc-4940-9c30-49339b076410",
     "prev": "a6df0ac6-9da4-4512-a67a-230a37468d56",
     "regions": {
      "f20b35bb-f33d-49bc-ae55-9df65c55ef24": {
       "attrs": {
        "height": 0.8,
        "width": 0.8,
        "x": 0.1,
        "y": 0.1
       },
       "content": {
        "cell": "08b1f424-fb23-42b0-8949-d85f45005335",
        "part": "whole"
       },
       "id": "f20b35bb-f33d-49bc-ae55-9df65c55ef24"
      }
     }
    },
    "90f683ec-745c-4902-ada5-7b799e8515cf": {
     "id": "90f683ec-745c-4902-ada5-7b799e8515cf",
     "prev": "a7d617b7-c418-48f6-bc52-b0782b5034ba",
     "regions": {
      "7070514b-29c2-4bd4-afd0-079a6432a6f7": {
       "attrs": {
        "height": 0.8,
        "width": 0.8,
        "x": 0.1,
        "y": 0.1
       },
       "content": {
        "cell": "b640135d-d208-40ab-a72a-a49c8cfe9c47",
        "part": "whole"
       },
       "id": "7070514b-29c2-4bd4-afd0-079a6432a6f7"
      }
     }
    },
    "955068ad-5094-4fdd-9362-96f4e5cc2f6a": {
     "id": "955068ad-5094-4fdd-9362-96f4e5cc2f6a",
     "prev": "3c37ff9b-4f98-45f9-9aa3-11743a87fcf2",
     "regions": {
      "eba52984-dc6b-4d1d-b814-800e12b8082f": {
       "attrs": {
        "height": 0.8,
        "width": 0.8,
        "x": 0.1,
        "y": 0.1
       },
       "content": {
        "cell": "995daa3a-8899-4e7b-9462-16e6cbc2a41a",
        "part": "whole"
       },
       "id": "eba52984-dc6b-4d1d-b814-800e12b8082f"
      }
     }
    },
    "99f214eb-1a3e-4758-8480-4deab02a0407": {
     "id": "99f214eb-1a3e-4758-8480-4deab02a0407",
     "prev": "b63d5f63-aa9a-4780-90ee-fb7517aa070e",
     "regions": {
      "63a7f3b6-f604-433c-a99c-a19d383e59d7": {
       "attrs": {
        "height": 0.8,
        "width": 0.8,
        "x": 0.1,
        "y": 0.1
       },
       "content": {
        "cell": "2dca6a99-69c0-495a-8356-de957b4fb454",
        "part": "whole"
       },
       "id": "63a7f3b6-f604-433c-a99c-a19d383e59d7"
      }
     }
    },
    "a6df0ac6-9da4-4512-a67a-230a37468d56": {
     "id": "a6df0ac6-9da4-4512-a67a-230a37468d56",
     "prev": "060c6566-f8e1-4a7e-bd8b-887b656f7335",
     "regions": {
      "d9a4e1d9-5f6f-4614-b023-0931d6af8949": {
       "attrs": {
        "height": 0.8,
        "width": 0.8,
        "x": 0.1,
        "y": 0.1
       },
       "content": {
        "cell": "8e7ce356-df1f-4874-95b1-cb372fe0ed63",
        "part": "whole"
       },
       "id": "d9a4e1d9-5f6f-4614-b023-0931d6af8949"
      }
     }
    },
    "a7d617b7-c418-48f6-bc52-b0782b5034ba": {
     "id": "a7d617b7-c418-48f6-bc52-b0782b5034ba",
     "prev": "f43016b4-e680-42d4-969c-138869eae107",
     "regions": {
      "dd82f177-52e3-475f-b50d-534cd73483d6": {
       "attrs": {
        "height": 0.8,
        "width": 0.8,
        "x": 0.1,
        "y": 0.1
       },
       "content": {
        "cell": "c40ce478-a3c8-4c6a-bb12-8e2d7d225c7b",
        "part": "whole"
       },
       "id": "dd82f177-52e3-475f-b50d-534cd73483d6"
      }
     }
    },
    "b43cc065-1476-42bb-942a-b3b76dc25c70": {
     "id": "b43cc065-1476-42bb-942a-b3b76dc25c70",
     "prev": "56d2a582-bd25-480e-9a76-34723854235f",
     "regions": {
      "9c65640e-b54f-4575-90ca-bbca1fde2cb7": {
       "attrs": {
        "height": 0.8,
        "width": 0.8,
        "x": 0.1,
        "y": 0.1
       },
       "content": {
        "cell": "10612d9b-0f32-4931-8510-9eec99e17ef8",
        "part": "whole"
       },
       "id": "9c65640e-b54f-4575-90ca-bbca1fde2cb7"
      }
     }
    },
    "b63d5f63-aa9a-4780-90ee-fb7517aa070e": {
     "id": "b63d5f63-aa9a-4780-90ee-fb7517aa070e",
     "prev": "3091307c-9a63-47a9-bfcd-99e8bfd8b2bf",
     "regions": {
      "2c3f7598-4b7e-44d8-adb9-dbd222cbc878": {
       "attrs": {
        "height": 0.8,
        "width": 0.8,
        "x": 0.1,
        "y": 0.1
       },
       "content": {
        "cell": "b4b5ee02-d99d-4b12-8d93-bf1752329ea6",
        "part": "whole"
       },
       "id": "2c3f7598-4b7e-44d8-adb9-dbd222cbc878"
      }
     }
    },
    "b712b6bc-28a7-458b-8eef-ec825c3b10fc": {
     "id": "b712b6bc-28a7-458b-8eef-ec825c3b10fc",
     "prev": "90f683ec-745c-4902-ada5-7b799e8515cf",
     "regions": {
      "6fb7570c-e505-4dcc-bbb6-593a9f98cf59": {
       "attrs": {
        "height": 0.8,
        "width": 0.8,
        "x": 0.1,
        "y": 0.1
       },
       "content": {
        "cell": "eae76c38-6f23-4e3d-93ae-a2d0575e5d37",
        "part": "whole"
       },
       "id": "6fb7570c-e505-4dcc-bbb6-593a9f98cf59"
      }
     }
    },
    "ca57c701-a158-4d80-aa1a-9650a1b2e28a": {
     "id": "ca57c701-a158-4d80-aa1a-9650a1b2e28a",
     "prev": "0cb4c593-ca09-4d45-bcc4-96d06948ac70",
     "regions": {
      "bab48269-4f3d-4111-b7d2-3cf39c23e979": {
       "attrs": {
        "height": 0.8,
        "width": 0.8,
        "x": 0.1,
        "y": 0.1
       },
       "content": {
        "cell": "6c5da642-ecd3-4674-bba7-c31798649112",
        "part": "whole"
       },
       "id": "bab48269-4f3d-4111-b7d2-3cf39c23e979"
      }
     }
    },
    "d283854d-fe50-473e-bba3-def66f1d0c97": {
     "id": "d283854d-fe50-473e-bba3-def66f1d0c97",
     "prev": "f4d1bf2b-f544-4df3-a861-efc1d296c907",
     "regions": {
      "14f92ac6-e64a-4528-a38e-03735c34e41e": {
       "attrs": {
        "height": 0.8,
        "width": 0.8,
        "x": 0.1,
        "y": 0.1
       },
       "content": {
        "cell": "7c77cf8c-e23f-47e3-8594-85c1c6bc717f",
        "part": "whole"
       },
       "id": "14f92ac6-e64a-4528-a38e-03735c34e41e"
      }
     }
    },
    "e273609b-757c-48bc-a24b-ab0959d40610": {
     "id": "e273609b-757c-48bc-a24b-ab0959d40610",
     "prev": "2ebbba77-7e04-4ad7-993d-18a0bcab54fa",
     "regions": {
      "387c02bd-d48e-4608-a294-e46a6cc77173": {
       "attrs": {
        "height": 0.8,
        "width": 0.8,
        "x": 0.1,
        "y": 0.1
       },
       "content": {
        "cell": "1bfe8998-a53d-4aa7-b647-8ec8abf6852d",
        "part": "whole"
       },
       "id": "387c02bd-d48e-4608-a294-e46a6cc77173"
      }
     }
    },
    "f0242165-6a3c-4daa-afa3-aa41d22d22d3": {
     "id": "f0242165-6a3c-4daa-afa3-aa41d22d22d3",
     "prev": "6200b50f-643d-4d08-92ce-64d0231c58e4",
     "regions": {
      "8ae6c6c5-18b9-4493-9eab-9b70579f190e": {
       "attrs": {
        "height": 0.8,
        "width": 0.8,
        "x": 0.1,
        "y": 0.1
       },
       "content": {
        "cell": "01b1806b-3321-4cd0-8efa-a447db0d89e8",
        "part": "whole"
       },
       "id": "8ae6c6c5-18b9-4493-9eab-9b70579f190e"
      }
     }
    },
    "f43016b4-e680-42d4-969c-138869eae107": {
     "id": "f43016b4-e680-42d4-969c-138869eae107",
     "prev": "99f214eb-1a3e-4758-8480-4deab02a0407",
     "regions": {
      "5233cfe9-e4d0-4102-9729-cf39a4d4d249": {
       "attrs": {
        "height": 0.8,
        "width": 0.8,
        "x": 0.1,
        "y": 0.1
       },
       "content": {
        "cell": "7c09f537-6103-4e20-b937-180b314a3420",
        "part": "whole"
       },
       "id": "5233cfe9-e4d0-4102-9729-cf39a4d4d249"
      }
     }
    },
    "f4d1bf2b-f544-4df3-a861-efc1d296c907": {
     "id": "f4d1bf2b-f544-4df3-a861-efc1d296c907",
     "prev": "ca57c701-a158-4d80-aa1a-9650a1b2e28a",
     "regions": {
      "4317b209-ae1e-4f65-b045-dd6761aec525": {
       "attrs": {
        "height": 0.8,
        "width": 0.8,
        "x": 0.1,
        "y": 0.1
       },
       "content": {
        "cell": "b2c8b455-fd23-4035-ad9f-c2cb5e745f25",
        "part": "whole"
       },
       "id": "4317b209-ae1e-4f65-b045-dd6761aec525"
      }
     }
    },
    "fa5a1c69-1620-4e62-aa35-df37d37f7840": {
     "id": "fa5a1c69-1620-4e62-aa35-df37d37f7840",
     "prev": "698e6a5f-cb76-4b35-ae03-14ec241d038a",
     "regions": {
      "e21c9b4c-c51d-4cd6-9493-3a325798bb0d": {
       "attrs": {
        "height": 0.8,
        "width": 0.8,
        "x": 0.1,
        "y": 0.1
       },
       "content": {
        "cell": "54c70104-72a4-4e7c-9959-33b85cd64564",
        "part": "whole"
       },
       "id": "e21c9b4c-c51d-4cd6-9493-3a325798bb0d"
      }
     }
    }
   },
   "themes": {}
  }
 },
 "nbformat": 4,
 "nbformat_minor": 1
}
